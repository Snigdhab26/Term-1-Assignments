{
 "cells": [
  {
   "cell_type": "code",
   "execution_count": 1,
   "id": "c66d832e",
   "metadata": {},
   "outputs": [],
   "source": [
    "import numpy as np\n",
    "import pandas as pd\n",
    "import scipy.stats as stats\n",
    "import matplotlib.pyplot as plt\n",
    "import seaborn as sns"
   ]
  },
  {
   "cell_type": "markdown",
   "id": "6c7e80b4",
   "metadata": {},
   "source": [
    "#  Statistical Analysis-1\n",
    "\n",
    "# Submitted by: Group 20\n",
    "\n",
    "# Members: \n",
    "\n",
    "1. Snigdha Bhattacharjee - PGID: 12220067\n",
    "2. Bharathy Rajagopal    - PGID: 12220018\n",
    "3. Umesh Chandra Lohani  - PGID: 12220085\n",
    "4. Abhishek Gurujapally  - PGID: 12220055\n"
   ]
  },
  {
   "cell_type": "markdown",
   "id": "3ffc95cc",
   "metadata": {},
   "source": [
    "# Assumptions Made below:"
   ]
  },
  {
   "cell_type": "markdown",
   "id": "3dfdfa2f",
   "metadata": {},
   "source": [
    "# Introduction:\n",
    "    \n",
    "In this Statistical analysis group project we are dealing with a dataset of small-scale units consisting of 10,000 line items in the undivided state of Andhra Pradesh. Here, we will discuss the statistical analysis carried out on a dataset which also contains quite a good amount of outliers, and the analysis is conducted in two different ways: including and excluding the outliers depending on the Project requirements and research questions\t\t\t\n",
    "\n",
    "# Methodology:\n",
    "    \n",
    "The dataset is first cleaned by removing any missing values or duplicates. Then, basic descriptive statistics such as mean, standard deviation, and standard error are calculated for the dataset.\t\t\t\n",
    "After the initial analysis, the dataset is divided into two groups - one with outliers and the other without outliers. The outliers are identified using different techniques, such as the interquartile range (IQR). The IQR method identifies outliers as any data point that falls below the first quartile minus 1.5 times the IQR or above the third quartile plus 1.5 times the IQR. \n",
    "\n",
    "\n",
    "# Descriping the requirement to follow two different ways of approaching the dataset and the rationale behind it\n",
    "\n",
    "Q1 - Both ways- Dataset with/without the outliers\n",
    "Q2 , Q3, Q4b,c,d,Q8,Q9- Dataset Without Outliers\n",
    "Q4a , Q5,Q6, Q7,Q10- Original Dataset.\n",
    "\n",
    "\"The presence of outliers in this dataset can have a significant impact on the probability estimates derived from that dataset. Outliers are data points that are significantly different from the majority of the data in the dataset. Outliers can occur due to errors in data collection, measurement, or simply due to natural variability in the data.\n",
    "\n",
    "If a dataset contains outliers, the probability estimates derived from that dataset may be biased or skewed. This is because the presence of outliers can increase the variance of the data, making it more difficult to accurately estimate the underlying probability distribution. Therefore, it is important to identify and handle outliers appropriately when analyzing a dataset to avoid biased or inaccurate probability estimates. This can involve removing the outliers from the dataset, transforming the data to reduce the impact of outliers, or using statistical methods that are robust to outliers. \n",
    "For Q2, Q3, Q4b, c d and Q8,Q9 the analysis is carried out without the outliers\"\n",
    "\n",
    "\"At the same time, we have to consider that outliers represent legitimate data: Outliers are not necessarily bad data points and may actually represent legitimate observations. Removing outliers may introduce bias: Removing outliers may introduce bias in the data by altering the distribution of the data and the underlying relationships between variables. This may result in incorrect conclusions and invalid hypothesis testing results. Outliers may provide valuable insights: Outliers can provide valuable insights into the data and reveal important patterns or relationships that may not be apparent from the rest of the data. Removing them may result in a loss of valuable information and insights.\n",
    "In conclusion, outliers should not be automatically removed from a dataset when conducting hypothesis testing. Instead, researchers should carefully examine the data and consider whether the outliers represent legitimate data points and whether they should be included in the analysis.\n",
    "For Q4a , Q5,Q6, Q7,Q10 we have considered the full datasets without removing the Outliers\"\n",
    "\n",
    "# Conclusion\n",
    "\"In Conclusion, Overall, including or excluding outliers from the statistical analysis can significantly impact the results and interpretation of the data. Therefore, it is important to conduct a statistical analysis on datasets with and without outliers to fully understand the nature of the data and make informed decisions about the analysis.\n",
    "In some cases, the presence of outliers may be important and relevant to the research question. For example, if the research question is to identify the highest and lowest values in a dataset, including the outliers may be important to provide an accurate representation of the data. In such cases, excluding the outliers may lead to inaccurate conclusions.\n",
    "However, in other cases, the presence of outliers may not be relevant to the research question or may have a significant impact on the results of the analysis. For example, if the research question is to determine the average value of a dataset, the presence of outliers may skew the results and make the average value less representative of the majority of the data.\n",
    "\n",
    "Therefore, it is important to consider the research question and the impact of outliers when conducting a statistical analysis. Depending on the research question, it may be appropriate to conduct the analysis with and without outliers to determine the impact of their presence on the results and draw accurate conclusions.\n"
   ]
  },
  {
   "cell_type": "markdown",
   "id": "96135147",
   "metadata": {},
   "source": [
    "# Importing the dataset"
   ]
  },
  {
   "cell_type": "code",
   "execution_count": 2,
   "id": "f5ffff3d",
   "metadata": {},
   "outputs": [],
   "source": [
    "Group20_data=pd.read_excel('D:/ISB_LMS/05_Statistical Analysis-1/SA1 Group Project/SA1_Group20_Dataset.xlsx')"
   ]
  },
  {
   "cell_type": "code",
   "execution_count": 3,
   "id": "1b1e6294",
   "metadata": {},
   "outputs": [
    {
     "data": {
      "text/html": [
       "<div>\n",
       "<style scoped>\n",
       "    .dataframe tbody tr th:only-of-type {\n",
       "        vertical-align: middle;\n",
       "    }\n",
       "\n",
       "    .dataframe tbody tr th {\n",
       "        vertical-align: top;\n",
       "    }\n",
       "\n",
       "    .dataframe thead th {\n",
       "        text-align: right;\n",
       "    }\n",
       "</style>\n",
       "<table border=\"1\" class=\"dataframe\">\n",
       "  <thead>\n",
       "    <tr style=\"text-align: right;\">\n",
       "      <th></th>\n",
       "      <th>Index</th>\n",
       "      <th>SL_NO</th>\n",
       "      <th>ST_CODE</th>\n",
       "      <th>DIST_CODE</th>\n",
       "      <th>TTM_CODE</th>\n",
       "      <th>SECTOR_CODE</th>\n",
       "      <th>VT_CODE</th>\n",
       "      <th>WORKED_FOR_1D</th>\n",
       "      <th>CLOSED_Y</th>\n",
       "      <th>OPER_DUR_MM</th>\n",
       "      <th>...</th>\n",
       "      <th>REPAYMENT_DELAY</th>\n",
       "      <th>DECLINE_IN_GOP</th>\n",
       "      <th>DMD_PROB</th>\n",
       "      <th>WORK_CAP_PROB</th>\n",
       "      <th>RAW_MTRL_PROB</th>\n",
       "      <th>POWER_RPOB</th>\n",
       "      <th>LABOUR_PROB</th>\n",
       "      <th>MKT_PROB</th>\n",
       "      <th>EQUIP_PROB</th>\n",
       "      <th>MGMT_PROB</th>\n",
       "    </tr>\n",
       "  </thead>\n",
       "  <tbody>\n",
       "    <tr>\n",
       "      <th>0</th>\n",
       "      <td>26222</td>\n",
       "      <td>100937.0</td>\n",
       "      <td>28</td>\n",
       "      <td>12</td>\n",
       "      <td>14.0</td>\n",
       "      <td>1</td>\n",
       "      <td>13549.0</td>\n",
       "      <td>1</td>\n",
       "      <td></td>\n",
       "      <td>12</td>\n",
       "      <td>...</td>\n",
       "      <td>NaN</td>\n",
       "      <td>2</td>\n",
       "      <td>NaN</td>\n",
       "      <td>NaN</td>\n",
       "      <td>NaN</td>\n",
       "      <td>NaN</td>\n",
       "      <td>NaN</td>\n",
       "      <td>NaN</td>\n",
       "      <td>NaN</td>\n",
       "      <td>NaN</td>\n",
       "    </tr>\n",
       "    <tr>\n",
       "      <th>1</th>\n",
       "      <td>61229</td>\n",
       "      <td>87025.0</td>\n",
       "      <td>28</td>\n",
       "      <td>9</td>\n",
       "      <td>42.0</td>\n",
       "      <td>1</td>\n",
       "      <td>9506.0</td>\n",
       "      <td>1</td>\n",
       "      <td></td>\n",
       "      <td>12</td>\n",
       "      <td>...</td>\n",
       "      <td>NaN</td>\n",
       "      <td>2</td>\n",
       "      <td>NaN</td>\n",
       "      <td>NaN</td>\n",
       "      <td>NaN</td>\n",
       "      <td>NaN</td>\n",
       "      <td>NaN</td>\n",
       "      <td>NaN</td>\n",
       "      <td>NaN</td>\n",
       "      <td>NaN</td>\n",
       "    </tr>\n",
       "    <tr>\n",
       "      <th>2</th>\n",
       "      <td>16430</td>\n",
       "      <td>88319.0</td>\n",
       "      <td>28</td>\n",
       "      <td>6</td>\n",
       "      <td>NaN</td>\n",
       "      <td>2</td>\n",
       "      <td>406030.0</td>\n",
       "      <td>1</td>\n",
       "      <td></td>\n",
       "      <td>8</td>\n",
       "      <td>...</td>\n",
       "      <td>NaN</td>\n",
       "      <td>1</td>\n",
       "      <td>2.0</td>\n",
       "      <td>1.0</td>\n",
       "      <td>2.0</td>\n",
       "      <td>2.0</td>\n",
       "      <td>2.0</td>\n",
       "      <td>2.0</td>\n",
       "      <td>2.0</td>\n",
       "      <td>2.0</td>\n",
       "    </tr>\n",
       "    <tr>\n",
       "      <th>3</th>\n",
       "      <td>3829</td>\n",
       "      <td>13193.0</td>\n",
       "      <td>28</td>\n",
       "      <td>14</td>\n",
       "      <td>22.0</td>\n",
       "      <td>2</td>\n",
       "      <td>0.0</td>\n",
       "      <td>1</td>\n",
       "      <td></td>\n",
       "      <td>12</td>\n",
       "      <td>...</td>\n",
       "      <td>NaN</td>\n",
       "      <td>2</td>\n",
       "      <td>NaN</td>\n",
       "      <td>NaN</td>\n",
       "      <td>NaN</td>\n",
       "      <td>NaN</td>\n",
       "      <td>NaN</td>\n",
       "      <td>NaN</td>\n",
       "      <td>NaN</td>\n",
       "      <td>NaN</td>\n",
       "    </tr>\n",
       "    <tr>\n",
       "      <th>4</th>\n",
       "      <td>11926</td>\n",
       "      <td>46792.0</td>\n",
       "      <td>28</td>\n",
       "      <td>21</td>\n",
       "      <td>54.0</td>\n",
       "      <td>1</td>\n",
       "      <td>25649.0</td>\n",
       "      <td>1</td>\n",
       "      <td></td>\n",
       "      <td>12</td>\n",
       "      <td>...</td>\n",
       "      <td>NaN</td>\n",
       "      <td>1</td>\n",
       "      <td>1.0</td>\n",
       "      <td>1.0</td>\n",
       "      <td>2.0</td>\n",
       "      <td>1.0</td>\n",
       "      <td>1.0</td>\n",
       "      <td>1.0</td>\n",
       "      <td>2.0</td>\n",
       "      <td>2.0</td>\n",
       "    </tr>\n",
       "  </tbody>\n",
       "</table>\n",
       "<p>5 rows × 65 columns</p>\n",
       "</div>"
      ],
      "text/plain": [
       "   Index     SL_NO  ST_CODE  DIST_CODE  TTM_CODE  SECTOR_CODE   VT_CODE  \\\n",
       "0  26222  100937.0       28         12      14.0            1   13549.0   \n",
       "1  61229   87025.0       28          9      42.0            1    9506.0   \n",
       "2  16430   88319.0       28          6       NaN            2  406030.0   \n",
       "3   3829   13193.0       28         14      22.0            2       0.0   \n",
       "4  11926   46792.0       28         21      54.0            1   25649.0   \n",
       "\n",
       "   WORKED_FOR_1D CLOSED_Y  OPER_DUR_MM  ...  REPAYMENT_DELAY  DECLINE_IN_GOP  \\\n",
       "0              1                    12  ...              NaN               2   \n",
       "1              1                    12  ...              NaN               2   \n",
       "2              1                     8  ...              NaN               1   \n",
       "3              1                    12  ...              NaN               2   \n",
       "4              1                    12  ...              NaN               1   \n",
       "\n",
       "   DMD_PROB  WORK_CAP_PROB  RAW_MTRL_PROB  POWER_RPOB  LABOUR_PROB  MKT_PROB  \\\n",
       "0       NaN            NaN            NaN         NaN          NaN       NaN   \n",
       "1       NaN            NaN            NaN         NaN          NaN       NaN   \n",
       "2       2.0            1.0            2.0         2.0          2.0       2.0   \n",
       "3       NaN            NaN            NaN         NaN          NaN       NaN   \n",
       "4       1.0            1.0            2.0         1.0          1.0       1.0   \n",
       "\n",
       "   EQUIP_PROB  MGMT_PROB  \n",
       "0         NaN        NaN  \n",
       "1         NaN        NaN  \n",
       "2         2.0        2.0  \n",
       "3         NaN        NaN  \n",
       "4         2.0        2.0  \n",
       "\n",
       "[5 rows x 65 columns]"
      ]
     },
     "execution_count": 3,
     "metadata": {},
     "output_type": "execute_result"
    }
   ],
   "source": [
    "Group20_data.head()"
   ]
  },
  {
   "cell_type": "code",
   "execution_count": 4,
   "id": "8e338f06",
   "metadata": {},
   "outputs": [
    {
     "data": {
      "text/html": [
       "<div>\n",
       "<style scoped>\n",
       "    .dataframe tbody tr th:only-of-type {\n",
       "        vertical-align: middle;\n",
       "    }\n",
       "\n",
       "    .dataframe tbody tr th {\n",
       "        vertical-align: top;\n",
       "    }\n",
       "\n",
       "    .dataframe thead th {\n",
       "        text-align: right;\n",
       "    }\n",
       "</style>\n",
       "<table border=\"1\" class=\"dataframe\">\n",
       "  <thead>\n",
       "    <tr style=\"text-align: right;\">\n",
       "      <th></th>\n",
       "      <th>Index</th>\n",
       "      <th>SL_NO</th>\n",
       "      <th>ST_CODE</th>\n",
       "      <th>DIST_CODE</th>\n",
       "      <th>TTM_CODE</th>\n",
       "      <th>SECTOR_CODE</th>\n",
       "      <th>VT_CODE</th>\n",
       "      <th>WORKED_FOR_1D</th>\n",
       "      <th>OPER_DUR_MM</th>\n",
       "      <th>OPER_DUR_DD</th>\n",
       "      <th>...</th>\n",
       "      <th>REPAYMENT_DELAY</th>\n",
       "      <th>DECLINE_IN_GOP</th>\n",
       "      <th>DMD_PROB</th>\n",
       "      <th>WORK_CAP_PROB</th>\n",
       "      <th>RAW_MTRL_PROB</th>\n",
       "      <th>POWER_RPOB</th>\n",
       "      <th>LABOUR_PROB</th>\n",
       "      <th>MKT_PROB</th>\n",
       "      <th>EQUIP_PROB</th>\n",
       "      <th>MGMT_PROB</th>\n",
       "    </tr>\n",
       "  </thead>\n",
       "  <tbody>\n",
       "    <tr>\n",
       "      <th>count</th>\n",
       "      <td>10000.000000</td>\n",
       "      <td>9.999000e+03</td>\n",
       "      <td>10000.0</td>\n",
       "      <td>10000.000000</td>\n",
       "      <td>7400.000000</td>\n",
       "      <td>10000.000000</td>\n",
       "      <td>8042.000000</td>\n",
       "      <td>10000.0</td>\n",
       "      <td>10000.000000</td>\n",
       "      <td>3107.000000</td>\n",
       "      <td>...</td>\n",
       "      <td>1398.000000</td>\n",
       "      <td>10000.000000</td>\n",
       "      <td>1621.000000</td>\n",
       "      <td>1621.000000</td>\n",
       "      <td>1621.000000</td>\n",
       "      <td>1621.000000</td>\n",
       "      <td>1621.000000</td>\n",
       "      <td>1621.000000</td>\n",
       "      <td>1621.000000</td>\n",
       "      <td>1621.000000</td>\n",
       "    </tr>\n",
       "    <tr>\n",
       "      <th>mean</th>\n",
       "      <td>30952.295500</td>\n",
       "      <td>5.186043e+04</td>\n",
       "      <td>28.0</td>\n",
       "      <td>11.821400</td>\n",
       "      <td>40.803378</td>\n",
       "      <td>1.513200</td>\n",
       "      <td>185553.187391</td>\n",
       "      <td>1.0</td>\n",
       "      <td>10.563100</td>\n",
       "      <td>14.513035</td>\n",
       "      <td>...</td>\n",
       "      <td>1.841917</td>\n",
       "      <td>1.859800</td>\n",
       "      <td>1.470080</td>\n",
       "      <td>1.381246</td>\n",
       "      <td>1.858112</td>\n",
       "      <td>1.748920</td>\n",
       "      <td>1.952498</td>\n",
       "      <td>1.690932</td>\n",
       "      <td>1.866749</td>\n",
       "      <td>1.969772</td>\n",
       "    </tr>\n",
       "    <tr>\n",
       "      <th>std</th>\n",
       "      <td>17899.816734</td>\n",
       "      <td>3.790460e+04</td>\n",
       "      <td>0.0</td>\n",
       "      <td>5.879775</td>\n",
       "      <td>280.569010</td>\n",
       "      <td>0.499851</td>\n",
       "      <td>198436.963114</td>\n",
       "      <td>0.0</td>\n",
       "      <td>2.100538</td>\n",
       "      <td>6.694132</td>\n",
       "      <td>...</td>\n",
       "      <td>0.364949</td>\n",
       "      <td>0.347212</td>\n",
       "      <td>0.499258</td>\n",
       "      <td>0.485843</td>\n",
       "      <td>0.349043</td>\n",
       "      <td>0.433768</td>\n",
       "      <td>0.212775</td>\n",
       "      <td>0.462252</td>\n",
       "      <td>0.339951</td>\n",
       "      <td>0.171268</td>\n",
       "    </tr>\n",
       "    <tr>\n",
       "      <th>min</th>\n",
       "      <td>11.000000</td>\n",
       "      <td>1.000000e+00</td>\n",
       "      <td>28.0</td>\n",
       "      <td>1.000000</td>\n",
       "      <td>0.000000</td>\n",
       "      <td>1.000000</td>\n",
       "      <td>0.000000</td>\n",
       "      <td>1.0</td>\n",
       "      <td>0.000000</td>\n",
       "      <td>1.000000</td>\n",
       "      <td>...</td>\n",
       "      <td>1.000000</td>\n",
       "      <td>1.000000</td>\n",
       "      <td>1.000000</td>\n",
       "      <td>1.000000</td>\n",
       "      <td>1.000000</td>\n",
       "      <td>1.000000</td>\n",
       "      <td>1.000000</td>\n",
       "      <td>1.000000</td>\n",
       "      <td>1.000000</td>\n",
       "      <td>1.000000</td>\n",
       "    </tr>\n",
       "    <tr>\n",
       "      <th>25%</th>\n",
       "      <td>15513.250000</td>\n",
       "      <td>2.526400e+04</td>\n",
       "      <td>28.0</td>\n",
       "      <td>6.000000</td>\n",
       "      <td>16.000000</td>\n",
       "      <td>1.000000</td>\n",
       "      <td>10700.250000</td>\n",
       "      <td>1.0</td>\n",
       "      <td>10.000000</td>\n",
       "      <td>10.000000</td>\n",
       "      <td>...</td>\n",
       "      <td>2.000000</td>\n",
       "      <td>2.000000</td>\n",
       "      <td>1.000000</td>\n",
       "      <td>1.000000</td>\n",
       "      <td>2.000000</td>\n",
       "      <td>1.000000</td>\n",
       "      <td>2.000000</td>\n",
       "      <td>1.000000</td>\n",
       "      <td>2.000000</td>\n",
       "      <td>2.000000</td>\n",
       "    </tr>\n",
       "    <tr>\n",
       "      <th>50%</th>\n",
       "      <td>30956.500000</td>\n",
       "      <td>5.114300e+04</td>\n",
       "      <td>28.0</td>\n",
       "      <td>13.000000</td>\n",
       "      <td>26.000000</td>\n",
       "      <td>2.000000</td>\n",
       "      <td>23745.000000</td>\n",
       "      <td>1.0</td>\n",
       "      <td>12.000000</td>\n",
       "      <td>15.000000</td>\n",
       "      <td>...</td>\n",
       "      <td>2.000000</td>\n",
       "      <td>2.000000</td>\n",
       "      <td>1.000000</td>\n",
       "      <td>1.000000</td>\n",
       "      <td>2.000000</td>\n",
       "      <td>2.000000</td>\n",
       "      <td>2.000000</td>\n",
       "      <td>2.000000</td>\n",
       "      <td>2.000000</td>\n",
       "      <td>2.000000</td>\n",
       "    </tr>\n",
       "    <tr>\n",
       "      <th>75%</th>\n",
       "      <td>46257.000000</td>\n",
       "      <td>7.719300e+04</td>\n",
       "      <td>28.0</td>\n",
       "      <td>16.000000</td>\n",
       "      <td>36.000000</td>\n",
       "      <td>2.000000</td>\n",
       "      <td>406140.000000</td>\n",
       "      <td>1.0</td>\n",
       "      <td>12.000000</td>\n",
       "      <td>20.000000</td>\n",
       "      <td>...</td>\n",
       "      <td>2.000000</td>\n",
       "      <td>2.000000</td>\n",
       "      <td>2.000000</td>\n",
       "      <td>2.000000</td>\n",
       "      <td>2.000000</td>\n",
       "      <td>2.000000</td>\n",
       "      <td>2.000000</td>\n",
       "      <td>2.000000</td>\n",
       "      <td>2.000000</td>\n",
       "      <td>2.000000</td>\n",
       "    </tr>\n",
       "    <tr>\n",
       "      <th>max</th>\n",
       "      <td>61995.000000</td>\n",
       "      <td>1.244123e+06</td>\n",
       "      <td>28.0</td>\n",
       "      <td>23.000000</td>\n",
       "      <td>9042.000000</td>\n",
       "      <td>2.000000</td>\n",
       "      <td>920040.000000</td>\n",
       "      <td>1.0</td>\n",
       "      <td>12.000000</td>\n",
       "      <td>40.000000</td>\n",
       "      <td>...</td>\n",
       "      <td>2.000000</td>\n",
       "      <td>2.000000</td>\n",
       "      <td>2.000000</td>\n",
       "      <td>2.000000</td>\n",
       "      <td>2.000000</td>\n",
       "      <td>2.000000</td>\n",
       "      <td>2.000000</td>\n",
       "      <td>2.000000</td>\n",
       "      <td>2.000000</td>\n",
       "      <td>2.000000</td>\n",
       "    </tr>\n",
       "  </tbody>\n",
       "</table>\n",
       "<p>8 rows × 63 columns</p>\n",
       "</div>"
      ],
      "text/plain": [
       "              Index         SL_NO  ST_CODE     DIST_CODE     TTM_CODE  \\\n",
       "count  10000.000000  9.999000e+03  10000.0  10000.000000  7400.000000   \n",
       "mean   30952.295500  5.186043e+04     28.0     11.821400    40.803378   \n",
       "std    17899.816734  3.790460e+04      0.0      5.879775   280.569010   \n",
       "min       11.000000  1.000000e+00     28.0      1.000000     0.000000   \n",
       "25%    15513.250000  2.526400e+04     28.0      6.000000    16.000000   \n",
       "50%    30956.500000  5.114300e+04     28.0     13.000000    26.000000   \n",
       "75%    46257.000000  7.719300e+04     28.0     16.000000    36.000000   \n",
       "max    61995.000000  1.244123e+06     28.0     23.000000  9042.000000   \n",
       "\n",
       "        SECTOR_CODE        VT_CODE  WORKED_FOR_1D   OPER_DUR_MM  OPER_DUR_DD  \\\n",
       "count  10000.000000    8042.000000        10000.0  10000.000000  3107.000000   \n",
       "mean       1.513200  185553.187391            1.0     10.563100    14.513035   \n",
       "std        0.499851  198436.963114            0.0      2.100538     6.694132   \n",
       "min        1.000000       0.000000            1.0      0.000000     1.000000   \n",
       "25%        1.000000   10700.250000            1.0     10.000000    10.000000   \n",
       "50%        2.000000   23745.000000            1.0     12.000000    15.000000   \n",
       "75%        2.000000  406140.000000            1.0     12.000000    20.000000   \n",
       "max        2.000000  920040.000000            1.0     12.000000    40.000000   \n",
       "\n",
       "       ...  REPAYMENT_DELAY  DECLINE_IN_GOP     DMD_PROB  WORK_CAP_PROB  \\\n",
       "count  ...      1398.000000    10000.000000  1621.000000    1621.000000   \n",
       "mean   ...         1.841917        1.859800     1.470080       1.381246   \n",
       "std    ...         0.364949        0.347212     0.499258       0.485843   \n",
       "min    ...         1.000000        1.000000     1.000000       1.000000   \n",
       "25%    ...         2.000000        2.000000     1.000000       1.000000   \n",
       "50%    ...         2.000000        2.000000     1.000000       1.000000   \n",
       "75%    ...         2.000000        2.000000     2.000000       2.000000   \n",
       "max    ...         2.000000        2.000000     2.000000       2.000000   \n",
       "\n",
       "       RAW_MTRL_PROB   POWER_RPOB  LABOUR_PROB     MKT_PROB   EQUIP_PROB  \\\n",
       "count    1621.000000  1621.000000  1621.000000  1621.000000  1621.000000   \n",
       "mean        1.858112     1.748920     1.952498     1.690932     1.866749   \n",
       "std         0.349043     0.433768     0.212775     0.462252     0.339951   \n",
       "min         1.000000     1.000000     1.000000     1.000000     1.000000   \n",
       "25%         2.000000     1.000000     2.000000     1.000000     2.000000   \n",
       "50%         2.000000     2.000000     2.000000     2.000000     2.000000   \n",
       "75%         2.000000     2.000000     2.000000     2.000000     2.000000   \n",
       "max         2.000000     2.000000     2.000000     2.000000     2.000000   \n",
       "\n",
       "         MGMT_PROB  \n",
       "count  1621.000000  \n",
       "mean      1.969772  \n",
       "std       0.171268  \n",
       "min       1.000000  \n",
       "25%       2.000000  \n",
       "50%       2.000000  \n",
       "75%       2.000000  \n",
       "max       2.000000  \n",
       "\n",
       "[8 rows x 63 columns]"
      ]
     },
     "execution_count": 4,
     "metadata": {},
     "output_type": "execute_result"
    }
   ],
   "source": [
    "Group20_data.describe()"
   ]
  },
  {
   "cell_type": "markdown",
   "id": "d874d0bc",
   "metadata": {},
   "source": [
    "# Asnwer 1"
   ]
  },
  {
   "cell_type": "markdown",
   "id": "7e108827",
   "metadata": {},
   "source": [
    "### Checking the distribution of the GOP_diff_wrt_py & Perf_effi_per_emp before outlier removal"
   ]
  },
  {
   "cell_type": "code",
   "execution_count": 5,
   "id": "bd7960db",
   "metadata": {},
   "outputs": [],
   "source": [
    "# Calculating two different measures\n",
    "\n",
    "Group20_data['GOP_diff_wrt_py']=Group20_data['GOP_Year3']-Group20_data['GOP_Year2']\n",
    "\n",
    "Group20_data['Perf_effi_per_emp']=Group20_data['GOP_Year3']/Group20_data['EMP_TOTAL']"
   ]
  },
  {
   "cell_type": "code",
   "execution_count": 6,
   "id": "989f8ccb",
   "metadata": {},
   "outputs": [
    {
     "data": {
      "text/plain": [
       "<AxesSubplot:>"
      ]
     },
     "execution_count": 6,
     "metadata": {},
     "output_type": "execute_result"
    },
    {
     "data": {
      "image/png": "[encoded data removed]",
      "text/plain": [
       "<Figure size 640x480 with 1 Axes>"
      ]
     },
     "metadata": {},
     "output_type": "display_data"
    }
   ],
   "source": [
    "Group20_data['GOP_diff_wrt_py'].hist()"
   ]
  },
  {
   "cell_type": "code",
   "execution_count": 7,
   "id": "0e949b1e",
   "metadata": {},
   "outputs": [
    {
     "data": {
      "text/plain": [
       "<AxesSubplot:>"
      ]
     },
     "execution_count": 7,
     "metadata": {},
     "output_type": "execute_result"
    },
    {
     "data": {
      "image/png": "[encoded data removed]",
      "text/plain": [
       "<Figure size 640x480 with 1 Axes>"
      ]
     },
     "metadata": {},
     "output_type": "display_data"
    }
   ],
   "source": [
    "Group20_data['Perf_effi_per_emp'].hist()"
   ]
  },
  {
   "cell_type": "code",
   "execution_count": 8,
   "id": "4c446ab0",
   "metadata": {},
   "outputs": [
    {
     "name": "stdout",
     "output_type": "stream",
     "text": [
      "<class 'pandas.core.frame.DataFrame'>\n",
      "RangeIndex: 10000 entries, 0 to 9999\n",
      "Data columns (total 67 columns):\n",
      " #   Column             Non-Null Count  Dtype  \n",
      "---  ------             --------------  -----  \n",
      " 0   Index              10000 non-null  int64  \n",
      " 1   SL_NO              9999 non-null   float64\n",
      " 2   ST_CODE            10000 non-null  int64  \n",
      " 3   DIST_CODE          10000 non-null  int64  \n",
      " 4   TTM_CODE           7400 non-null   float64\n",
      " 5   SECTOR_CODE        10000 non-null  int64  \n",
      " 6   VT_CODE            8042 non-null   float64\n",
      " 7   WORKED_FOR_1D      10000 non-null  int64  \n",
      " 8   CLOSED_Y           10000 non-null  object \n",
      " 9   OPER_DUR_MM        10000 non-null  int64  \n",
      " 10  OPER_DUR_DD        3107 non-null   float64\n",
      " 11  SURVEY_CODE        10000 non-null  int64  \n",
      " 12  NIC_CODE           10000 non-null  int64  \n",
      " 13  PERM_REG_Y         9837 non-null   float64\n",
      " 14  FACTORY_ACT        10000 non-null  int64  \n",
      " 15  INIT_PROD_Y        9849 non-null   float64\n",
      " 16  UNIT_TYPE          10000 non-null  int64  \n",
      " 17  ANCI_UNIT          10000 non-null  int64  \n",
      " 18  ORG_TYPE           10000 non-null  int64  \n",
      " 19  WOMAN_ENT          10000 non-null  int64  \n",
      " 20  MKT_VAL_FA         10000 non-null  int64  \n",
      " 21  ORI_PURC_VAL_PM    10000 non-null  int64  \n",
      " 22  PM_INST_Y          9769 non-null   float64\n",
      " 23  EMP_TOTAL          10000 non-null  int64  \n",
      " 24  EMP_MALE           9941 non-null   float64\n",
      " 25  EMP_FEMALE         2795 non-null   float64\n",
      " 26  EMP_CHILD          60 non-null     float64\n",
      " 27  EMP_SC             3334 non-null   float64\n",
      " 28  EMP_ST             2112 non-null   float64\n",
      " 29  EMP_OBC            7179 non-null   float64\n",
      " 30  EMP_OTHER          6082 non-null   float64\n",
      " 31  POWER_SRC          10000 non-null  int64  \n",
      " 32  PROD1_CODE         9634 non-null   float64\n",
      " 33  PROD2_CODE         1027 non-null   float64\n",
      " 34  PROD3_CODE         281 non-null    float64\n",
      " 35  PROD4_CODE         115 non-null    float64\n",
      " 36  PROD5_CODE         10000 non-null  object \n",
      " 37  ACTI_NATURE        10000 non-null  int64  \n",
      " 38  OPER_NATURE        10000 non-null  int64  \n",
      " 39  MAN_BY             10000 non-null  int64  \n",
      " 40  MAN_CASTE          10000 non-null  int64  \n",
      " 41  REG_UNDER_SPR      10000 non-null  int64  \n",
      " 42  ACC_EXIST          10000 non-null  int64  \n",
      " 43  COMP_EXIST         10000 non-null  int64  \n",
      " 44  KNOW_HOW           10000 non-null  int64  \n",
      " 45  GOP_Year3          10000 non-null  int64  \n",
      " 46  GOP_Year2          9961 non-null   float64\n",
      " 47  GOP_Year1          9888 non-null   float64\n",
      " 48  VOE_Year3          10000 non-null  int64  \n",
      " 49  OS_LOAN_Year3      10000 non-null  int64  \n",
      " 50  OS_INST_SRC        2298 non-null   float64\n",
      " 51  OS_NONINST_SRC     2298 non-null   float64\n",
      " 52  NET_Year2          9961 non-null   float64\n",
      " 53  NET_Year3          10000 non-null  int64  \n",
      " 54  NET_STATUS_Year2   10000 non-null  int64  \n",
      " 55  REPAYMENT_DELAY    1398 non-null   float64\n",
      " 56  DECLINE_IN_GOP     10000 non-null  int64  \n",
      " 57  DMD_PROB           1621 non-null   float64\n",
      " 58  WORK_CAP_PROB      1621 non-null   float64\n",
      " 59  RAW_MTRL_PROB      1621 non-null   float64\n",
      " 60  POWER_RPOB         1621 non-null   float64\n",
      " 61  LABOUR_PROB        1621 non-null   float64\n",
      " 62  MKT_PROB           1621 non-null   float64\n",
      " 63  EQUIP_PROB         1621 non-null   float64\n",
      " 64  MGMT_PROB          1621 non-null   float64\n",
      " 65  GOP_diff_wrt_py    9961 non-null   float64\n",
      " 66  Perf_effi_per_emp  10000 non-null  float64\n",
      "dtypes: float64(34), int64(31), object(2)\n",
      "memory usage: 5.1+ MB\n"
     ]
    }
   ],
   "source": [
    "Group20_data.info()"
   ]
  },
  {
   "cell_type": "code",
   "execution_count": 9,
   "id": "27167bfb",
   "metadata": {},
   "outputs": [],
   "source": [
    "# Group20_data_new is the copy of the dataset without Outliers\n",
    "\n",
    "Group20_data_new=Group20_data.copy()"
   ]
  },
  {
   "cell_type": "code",
   "execution_count": 10,
   "id": "67300023",
   "metadata": {},
   "outputs": [
    {
     "name": "stdout",
     "output_type": "stream",
     "text": [
      "<class 'pandas.core.frame.DataFrame'>\n",
      "RangeIndex: 10000 entries, 0 to 9999\n",
      "Data columns (total 67 columns):\n",
      " #   Column             Non-Null Count  Dtype  \n",
      "---  ------             --------------  -----  \n",
      " 0   Index              10000 non-null  int64  \n",
      " 1   SL_NO              9999 non-null   float64\n",
      " 2   ST_CODE            10000 non-null  int64  \n",
      " 3   DIST_CODE          10000 non-null  int64  \n",
      " 4   TTM_CODE           7400 non-null   float64\n",
      " 5   SECTOR_CODE        10000 non-null  int64  \n",
      " 6   VT_CODE            8042 non-null   float64\n",
      " 7   WORKED_FOR_1D      10000 non-null  int64  \n",
      " 8   CLOSED_Y           10000 non-null  object \n",
      " 9   OPER_DUR_MM        10000 non-null  int64  \n",
      " 10  OPER_DUR_DD        3107 non-null   float64\n",
      " 11  SURVEY_CODE        10000 non-null  int64  \n",
      " 12  NIC_CODE           10000 non-null  int64  \n",
      " 13  PERM_REG_Y         9837 non-null   float64\n",
      " 14  FACTORY_ACT        10000 non-null  int64  \n",
      " 15  INIT_PROD_Y        9849 non-null   float64\n",
      " 16  UNIT_TYPE          10000 non-null  int64  \n",
      " 17  ANCI_UNIT          10000 non-null  int64  \n",
      " 18  ORG_TYPE           10000 non-null  int64  \n",
      " 19  WOMAN_ENT          10000 non-null  int64  \n",
      " 20  MKT_VAL_FA         10000 non-null  int64  \n",
      " 21  ORI_PURC_VAL_PM    10000 non-null  int64  \n",
      " 22  PM_INST_Y          9769 non-null   float64\n",
      " 23  EMP_TOTAL          10000 non-null  int64  \n",
      " 24  EMP_MALE           9941 non-null   float64\n",
      " 25  EMP_FEMALE         2795 non-null   float64\n",
      " 26  EMP_CHILD          60 non-null     float64\n",
      " 27  EMP_SC             3334 non-null   float64\n",
      " 28  EMP_ST             2112 non-null   float64\n",
      " 29  EMP_OBC            7179 non-null   float64\n",
      " 30  EMP_OTHER          6082 non-null   float64\n",
      " 31  POWER_SRC          10000 non-null  int64  \n",
      " 32  PROD1_CODE         9634 non-null   float64\n",
      " 33  PROD2_CODE         1027 non-null   float64\n",
      " 34  PROD3_CODE         281 non-null    float64\n",
      " 35  PROD4_CODE         115 non-null    float64\n",
      " 36  PROD5_CODE         10000 non-null  object \n",
      " 37  ACTI_NATURE        10000 non-null  int64  \n",
      " 38  OPER_NATURE        10000 non-null  int64  \n",
      " 39  MAN_BY             10000 non-null  int64  \n",
      " 40  MAN_CASTE          10000 non-null  int64  \n",
      " 41  REG_UNDER_SPR      10000 non-null  int64  \n",
      " 42  ACC_EXIST          10000 non-null  int64  \n",
      " 43  COMP_EXIST         10000 non-null  int64  \n",
      " 44  KNOW_HOW           10000 non-null  int64  \n",
      " 45  GOP_Year3          10000 non-null  int64  \n",
      " 46  GOP_Year2          9961 non-null   float64\n",
      " 47  GOP_Year1          9888 non-null   float64\n",
      " 48  VOE_Year3          10000 non-null  int64  \n",
      " 49  OS_LOAN_Year3      10000 non-null  int64  \n",
      " 50  OS_INST_SRC        2298 non-null   float64\n",
      " 51  OS_NONINST_SRC     2298 non-null   float64\n",
      " 52  NET_Year2          9961 non-null   float64\n",
      " 53  NET_Year3          10000 non-null  int64  \n",
      " 54  NET_STATUS_Year2   10000 non-null  int64  \n",
      " 55  REPAYMENT_DELAY    1398 non-null   float64\n",
      " 56  DECLINE_IN_GOP     10000 non-null  int64  \n",
      " 57  DMD_PROB           1621 non-null   float64\n",
      " 58  WORK_CAP_PROB      1621 non-null   float64\n",
      " 59  RAW_MTRL_PROB      1621 non-null   float64\n",
      " 60  POWER_RPOB         1621 non-null   float64\n",
      " 61  LABOUR_PROB        1621 non-null   float64\n",
      " 62  MKT_PROB           1621 non-null   float64\n",
      " 63  EQUIP_PROB         1621 non-null   float64\n",
      " 64  MGMT_PROB          1621 non-null   float64\n",
      " 65  GOP_diff_wrt_py    9961 non-null   float64\n",
      " 66  Perf_effi_per_emp  10000 non-null  float64\n",
      "dtypes: float64(34), int64(31), object(2)\n",
      "memory usage: 5.1+ MB\n"
     ]
    }
   ],
   "source": [
    "Group20_data_new.info()"
   ]
  },
  {
   "cell_type": "markdown",
   "id": "e6e24f9e",
   "metadata": {},
   "source": [
    "# Removing the Outlier for Two Created Measures : GOP_diff_wrt_py & Perf_effi_per_emp Column"
   ]
  },
  {
   "cell_type": "code",
   "execution_count": 11,
   "id": "36fe9f15",
   "metadata": {},
   "outputs": [
    {
     "data": {
      "text/plain": [
       "True"
      ]
     },
     "execution_count": 11,
     "metadata": {},
     "output_type": "execute_result"
    }
   ],
   "source": [
    "# Null Check\n",
    "pd.isnull(Group20_data['GOP_diff_wrt_py']).any()"
   ]
  },
  {
   "cell_type": "code",
   "execution_count": 12,
   "id": "ddd0b532",
   "metadata": {},
   "outputs": [
    {
     "name": "stdout",
     "output_type": "stream",
     "text": [
      "1498\n",
      "814\n"
     ]
    },
    {
     "data": {
      "text/plain": [
       "(7688, 67)"
      ]
     },
     "execution_count": 12,
     "metadata": {},
     "output_type": "execute_result"
    }
   ],
   "source": [
    "Group20_data['GOP_diff_wrt_py'].fillna(0,inplace = True )\n",
    "\n",
    "GOP_Eff_Q1 = np.percentile(Group20_data['GOP_diff_wrt_py'],25)\n",
    "GOP_Eff_Q3 = np.percentile(Group20_data['GOP_diff_wrt_py'],75)\n",
    "GOP_Eff_IQR = GOP_Eff_Q3-GOP_Eff_Q1\n",
    "\n",
    "GOP_Eff_Outlier_max = GOP_Eff_Q3 + 1.5 * GOP_Eff_IQR\n",
    "GOP_Eff_Outlier_min =  GOP_Eff_Q1 - 1.5 * GOP_Eff_IQR\n",
    "\n",
    "print(Group20_data[Group20_data['GOP_diff_wrt_py']>GOP_Eff_Outlier_max]['GOP_diff_wrt_py'].count()) #1498\n",
    "\n",
    "print(Group20_data[Group20_data['GOP_diff_wrt_py']<GOP_Eff_Outlier_min]['GOP_diff_wrt_py'].count()) #814\n",
    "\n",
    "Group20_data.drop((Group20_data[Group20_data['GOP_diff_wrt_py']>GOP_Eff_Outlier_max]).index,inplace=True)\n",
    "Group20_data.drop((Group20_data[Group20_data['GOP_diff_wrt_py']<GOP_Eff_Outlier_min]).index,inplace=True)\n",
    "\n",
    "Group20_data.shape"
   ]
  },
  {
   "cell_type": "code",
   "execution_count": 13,
   "id": "a9c40afd",
   "metadata": {},
   "outputs": [
    {
     "data": {
      "text/plain": [
       "False"
      ]
     },
     "execution_count": 13,
     "metadata": {},
     "output_type": "execute_result"
    }
   ],
   "source": [
    "pd.isnull(Group20_data['GOP_diff_wrt_py']).any()"
   ]
  },
  {
   "cell_type": "code",
   "execution_count": 14,
   "id": "6f2dfda5",
   "metadata": {},
   "outputs": [
    {
     "name": "stdout",
     "output_type": "stream",
     "text": [
      "530\n",
      "0\n"
     ]
    },
    {
     "data": {
      "text/plain": [
       "(7158, 67)"
      ]
     },
     "execution_count": 14,
     "metadata": {},
     "output_type": "execute_result"
    }
   ],
   "source": [
    "## Removing the Outlier for Perf_effi_per_emp column\n",
    "\n",
    "Performance_Eff_Q1 = np.percentile(Group20_data['Perf_effi_per_emp'],25)\n",
    "Performance_Eff_Q3 = np.percentile(Group20_data['Perf_effi_per_emp'],75)\n",
    "Performance_Eff_IQR = Performance_Eff_Q3-Performance_Eff_Q1\n",
    "\n",
    "Performance_Eff_Outlier_max = Performance_Eff_Q3 + 1.5 * Performance_Eff_IQR\n",
    "Performance_Eff_Outlier_min =  Performance_Eff_Q1 - 1.5 * Performance_Eff_IQR\n",
    "\n",
    "print(Group20_data[Group20_data['Perf_effi_per_emp']>Performance_Eff_Outlier_max]['Perf_effi_per_emp'].count()) #530\n",
    "print(Group20_data[Group20_data['Perf_effi_per_emp']<Performance_Eff_Outlier_min]['Perf_effi_per_emp'].count()) #0\n",
    "\n",
    "Group20_data.drop((Group20_data[Group20_data['Perf_effi_per_emp']>Performance_Eff_Outlier_max]).index,inplace=True)\n",
    "Group20_data.drop((Group20_data[Group20_data['Perf_effi_per_emp']<Performance_Eff_Outlier_min]).index,inplace=True)\n",
    "\n",
    "Group20_data.shape"
   ]
  },
  {
   "cell_type": "code",
   "execution_count": 15,
   "id": "522dd8da",
   "metadata": {},
   "outputs": [
    {
     "data": {
      "text/plain": [
       "<AxesSubplot:>"
      ]
     },
     "execution_count": 15,
     "metadata": {},
     "output_type": "execute_result"
    },
    {
     "data": {
      "image/png": "[encoded data removed]",
      "text/plain": [
       "<Figure size 640x480 with 1 Axes>"
      ]
     },
     "metadata": {},
     "output_type": "display_data"
    }
   ],
   "source": [
    "Group20_data['GOP_diff_wrt_py'].hist()"
   ]
  },
  {
   "cell_type": "code",
   "execution_count": 16,
   "id": "37bcc99e",
   "metadata": {},
   "outputs": [
    {
     "data": {
      "text/plain": [
       "<AxesSubplot:>"
      ]
     },
     "execution_count": 16,
     "metadata": {},
     "output_type": "execute_result"
    },
    {
     "data": {
      "image/png": "[encoded data removed]",
      "text/plain": [
       "<Figure size 640x480 with 1 Axes>"
      ]
     },
     "metadata": {},
     "output_type": "display_data"
    }
   ],
   "source": [
    "Group20_data['Perf_effi_per_emp'].hist()"
   ]
  },
  {
   "cell_type": "code",
   "execution_count": 17,
   "id": "a1f3e107",
   "metadata": {},
   "outputs": [
    {
     "data": {
      "text/plain": [
       "count    7.158000e+03\n",
       "mean     1.090446e+05\n",
       "std      1.420728e+05\n",
       "min      0.000000e+00\n",
       "25%      3.600000e+04\n",
       "50%      7.000000e+04\n",
       "75%      1.250000e+05\n",
       "max      3.068000e+06\n",
       "Name: GOP_Year3, dtype: float64"
      ]
     },
     "execution_count": 17,
     "metadata": {},
     "output_type": "execute_result"
    }
   ],
   "source": [
    "Group20_data['GOP_Year3'].describe()"
   ]
  },
  {
   "cell_type": "code",
   "execution_count": 18,
   "id": "fa1bc0a4",
   "metadata": {},
   "outputs": [],
   "source": [
    "sample_df=Group20_data['GOP_Year3']"
   ]
  },
  {
   "cell_type": "code",
   "execution_count": 19,
   "id": "b1deb7d7",
   "metadata": {},
   "outputs": [
    {
     "data": {
      "text/plain": [
       "count    7.158000e+03\n",
       "mean     1.090446e+05\n",
       "std      1.420728e+05\n",
       "min      0.000000e+00\n",
       "25%      3.600000e+04\n",
       "50%      7.000000e+04\n",
       "75%      1.250000e+05\n",
       "max      3.068000e+06\n",
       "Name: GOP_Year3, dtype: float64"
      ]
     },
     "execution_count": 19,
     "metadata": {},
     "output_type": "execute_result"
    }
   ],
   "source": [
    "sample_df.describe()"
   ]
  },
  {
   "cell_type": "markdown",
   "id": "9677e883",
   "metadata": {},
   "source": [
    "### Question 1 Solution before removing the Outliers"
   ]
  },
  {
   "cell_type": "code",
   "execution_count": 20,
   "id": "e89f9c5b",
   "metadata": {},
   "outputs": [
    {
     "name": "stdout",
     "output_type": "stream",
     "text": [
      "Mean for GOP_Year3 92780031.0842\n",
      "Standard Deviation for GOP_Year3 9081047608.507324\n",
      "Total row count of sample: 10000\n",
      "Standard Error: 90810476.08507325\n"
     ]
    }
   ],
   "source": [
    "# Given Info as per Question 1\n",
    "\n",
    "# Calculating Mean\n",
    "\n",
    "xbar=Group20_data_new['GOP_Year3'].mean()\n",
    "print('Mean for GOP_Year3',xbar)\n",
    "\n",
    "# Calculating Standard Deviation\n",
    "\n",
    "samplesd=Group20_data_new['GOP_Year3'].std()\n",
    "print('Standard Deviation for GOP_Year3',samplesd)\n",
    "\n",
    "# Considering the Given data as Sample , calculating the standard error below\n",
    "\n",
    "n=Group20_data_new['GOP_Year3'].count()\n",
    "\n",
    "print('Total row count of sample:',n)\n",
    "\n",
    "se = samplesd/np.sqrt(n)\n",
    "\n",
    "print('Standard Error:',se)"
   ]
  },
  {
   "cell_type": "code",
   "execution_count": 21,
   "id": "f2e44e6b",
   "metadata": {},
   "outputs": [
    {
     "name": "stdout",
     "output_type": "stream",
     "text": [
      "alpha 0.050000000000000044\n"
     ]
    },
    {
     "data": {
      "text/plain": [
       "(-85226778.88781765, 270786841.0562177)"
      ]
     },
     "execution_count": 21,
     "metadata": {},
     "output_type": "execute_result"
    }
   ],
   "source": [
    "# For a given Confidence of 95% , alpha=1-0.95=0.05\n",
    "\n",
    "alpha=1-0.95 # For a confidence Interval of 95%\n",
    "\n",
    "print('alpha',alpha)\n",
    "\n",
    "# Calculating Confidence Interval as per t-distribution\n",
    "\n",
    "stats.t.interval(0.95, df = n-1, loc = xbar, scale = samplesd/np.sqrt(n))"
   ]
  },
  {
   "cell_type": "markdown",
   "id": "c16992e3",
   "metadata": {},
   "source": [
    "### Above Calculated Confidence Interval is bit unrealistic measure for population Mean of GOP_Year3"
   ]
  },
  {
   "cell_type": "markdown",
   "id": "a5885d89",
   "metadata": {},
   "source": [
    "### Question 1 Solution after removing the Outliers"
   ]
  },
  {
   "cell_type": "code",
   "execution_count": 22,
   "id": "5f4cfb51",
   "metadata": {},
   "outputs": [
    {
     "name": "stdout",
     "output_type": "stream",
     "text": [
      "Mean for GOP_Year3 92780031.0842\n",
      "Standard Deviation for GOP_Year3 9081047608.507324\n",
      "Total row count of sample: 7158\n",
      "Standard Error: 107334689.79771964\n"
     ]
    }
   ],
   "source": [
    "# Given Info as per Question 1\n",
    "\n",
    "# Calculating Mean\n",
    "\n",
    "xbar1=Group20_data['GOP_Year3'].mean()\n",
    "print('Mean for GOP_Year3',xbar)\n",
    "\n",
    "# Calculating Standard Deviation\n",
    "\n",
    "samplesd1=Group20_data['GOP_Year3'].std()\n",
    "print('Standard Deviation for GOP_Year3',samplesd)\n",
    "\n",
    "# Considering the Given data as Sample , calculating the standard error below\n",
    "\n",
    "n=Group20_data['GOP_Year3'].count()\n",
    "\n",
    "print('Total row count of sample:',n)\n",
    "\n",
    "se = samplesd/np.sqrt(n)\n",
    "\n",
    "print('Standard Error:',se)"
   ]
  },
  {
   "cell_type": "code",
   "execution_count": 23,
   "id": "03b16dda",
   "metadata": {},
   "outputs": [
    {
     "name": "stdout",
     "output_type": "stream",
     "text": [
      "alpha 0.050000000000000044\n"
     ]
    },
    {
     "data": {
      "text/plain": [
       "(105752.75316647296, 112336.39966951475)"
      ]
     },
     "execution_count": 23,
     "metadata": {},
     "output_type": "execute_result"
    }
   ],
   "source": [
    "# For a given Confidence of 95% , alpha=1-0.95=0.05\n",
    "\n",
    "alpha=1-0.95 # For a confidence Interval of 95%\n",
    "\n",
    "print('alpha',alpha)\n",
    "\n",
    "# Calculating Confidence Interval as per t-distribution\n",
    "\n",
    "stats.t.interval(0.95, df = n-1, loc = xbar1, scale = samplesd1/np.sqrt(n))"
   ]
  },
  {
   "cell_type": "code",
   "execution_count": 24,
   "id": "d86d0720",
   "metadata": {},
   "outputs": [
    {
     "name": "stdout",
     "output_type": "stream",
     "text": [
      "t_critical 1.96\n",
      "Confidence Interval: 105753.24938662993  to  112335.90344935778\n"
     ]
    }
   ],
   "source": [
    "# Calculating Confidence Interval using Lower Limit & Upper Limit Manually\n",
    "\n",
    "# From t-table , t-critical value for 95% confidence interval & degree of freedom=9999\n",
    "\n",
    "t_critical=1.960 # As per t-table for 95% confidence Interval\n",
    "\n",
    "print('t_critical',t_critical)\n",
    "\n",
    "lower_limit=xbar1-(t_critical)*(samplesd1/np.sqrt(n))\n",
    "upper_limit=xbar1+(t_critical)*(samplesd1/np.sqrt(n))\n",
    "\n",
    "print('Confidence Interval:',lower_limit,\" to \",upper_limit)"
   ]
  },
  {
   "cell_type": "markdown",
   "id": "bb35c584",
   "metadata": {},
   "source": [
    "# Answer 2"
   ]
  },
  {
   "cell_type": "markdown",
   "id": "5df7010e",
   "metadata": {},
   "source": [
    "# Calculating two different Performance Measures"
   ]
  },
  {
   "cell_type": "markdown",
   "id": "95cc0dc2",
   "metadata": {},
   "source": [
    "# 1. Growth/decline of GOP \n",
    "\n",
    "### 2. Formula : Year on Year Gross output= Gross output Year3- Gross output year2\n",
    "\n",
    "### 3. Definition : \n",
    "\n",
    "#### This performance measure indicates whether the business unit has grown or declined in terms of the amount of output it has generated over the course of the year.If the year on year change in gross output is positive, it means that the business unit has grown its output compared to the previous year. This can be a positive sign of the business unit's performance and can indicate that it is meeting its objectives and expanding its operations.On the other hand, if the year on year change in gross output is negative, it means that the business unit has declined in terms of output compared to the previous year. This can be a cause for concern and may indicate that the business unit is facing challenges such as increased competition, declining demand, or operational inefficiencies.Overall, year on year change in gross output is an important metric for evaluating the performance of a business unit over time and assessing its ability to achieve growth and meet its objectives.\n",
    "\n",
    "### 4. Rationale : \n",
    "\n",
    "#### Considering the year on year change in gross output as a KPI for each business unit (SSSBE and SSI) is important because it provides insight into the performance of each unit over time. This allows the company to identify areas of strength and areas for improvement in each business unit, and allocate resources accordingly.By comparing the year on year change in gross output between the two business units, the company can also identify which unit is performing better and investigate the reasons behind the difference. This can help the company to identify best practices and apply them across the organization, leading to overall improvements in performance.Additionally, tracking the year on year change in gross output can help the company to identify trends in the market and adjust its strategy accordingly. For example, if one business unit experiences a decline in output while the other experiences growth, the company may need to shift resources or adjust its product offerings to respond to changing customer demands.Overall, considering the year on year change in gross output as a KPI for each business unit provides valuable information for strategic decision making and helps ensure the long-term success of the company.\n"
   ]
  },
  {
   "cell_type": "code",
   "execution_count": 25,
   "id": "3da626de",
   "metadata": {},
   "outputs": [],
   "source": [
    "Group20_data['GOP_diff_wrt_py']=Group20_data['GOP_Year3']-Group20_data['GOP_Year2']"
   ]
  },
  {
   "cell_type": "markdown",
   "id": "1c736e5c",
   "metadata": {},
   "source": [
    "# 2. Performance Efficiency \n",
    "\n",
    "### 2. Formula : Gross output year3/ No of employees\n",
    "\n",
    "### 3. Definition : \n",
    "\n",
    "#### This performance measure indicates that a business unit is utilizing its resources effectively and efficiently to generate maximum output with the minimum amount of labor input. An operationally efficient business unit would typically have a high labor productivity, as measured by the ratio of gross output to the number of employees. This means that each employee is contributing a significant amount of value to the output generated by the business unit. Additionally, an operationally efficient business unit may also have low overhead costs and a streamlined organizational structure that enables it to respond quickly and efficiently to changing market conditions.\n",
    "\n",
    "### 4. Rationale : \n",
    "\n",
    "#### Considering the KPI of gross output divided by the number of employees for each business unit (SSSBE and SSI) is important because it provides insight into the productivity of each unit. This KPI helps to measure the efficiency with which the business unit is utilizing its resources, particularly its labor force, to generate output.\n",
    "#### By comparing the labor productivity of each business unit, the company can identify which unit is more efficient in utilizing its resources, and investigate the reasons for the difference. This can help the company to identify areas for improvement, such as optimizing processes or investing in employee training and development, which can ultimately lead to increased efficiency and profitability.\n",
    "#### Additionally, tracking the labor productivity of each business unit over time can help the company to identify trends and adjust its resource allocation accordingly. For example, if one business unit has a significantly lower labor productivity than the other, the company may need to investigate the reasons behind the difference and adjust its staffing levels or training programs to improve operational efficiency.\n",
    "#### Overall, considering the KPI of gross output divided by the number of employees for each business unit provides valuable information for optimizing resource utilization and improving overall productivity, which are critical for the long-term success of the company.\n"
   ]
  },
  {
   "cell_type": "code",
   "execution_count": 26,
   "id": "ea907075",
   "metadata": {},
   "outputs": [],
   "source": [
    "Group20_data['Perf_effi_per_emp']=Group20_data['GOP_Year3']/Group20_data['EMP_TOTAL']"
   ]
  },
  {
   "cell_type": "markdown",
   "id": "c7d927c4",
   "metadata": {},
   "source": [
    "#### Checking the Distribution of the two measures After Outlier Removal"
   ]
  },
  {
   "cell_type": "code",
   "execution_count": 27,
   "id": "5799b6fd",
   "metadata": {},
   "outputs": [
    {
     "data": {
      "text/plain": [
       "<AxesSubplot:>"
      ]
     },
     "execution_count": 27,
     "metadata": {},
     "output_type": "execute_result"
    },
    {
     "data": {
      "image/png": "[encoded data removed]",
      "text/plain": [
       "<Figure size 640x480 with 1 Axes>"
      ]
     },
     "metadata": {},
     "output_type": "display_data"
    }
   ],
   "source": [
    "Group20_data['GOP_diff_wrt_py'].hist()"
   ]
  },
  {
   "cell_type": "code",
   "execution_count": 28,
   "id": "05eb6f4c",
   "metadata": {},
   "outputs": [
    {
     "data": {
      "text/plain": [
       "<AxesSubplot:>"
      ]
     },
     "execution_count": 28,
     "metadata": {},
     "output_type": "execute_result"
    },
    {
     "data": {
      "image/png": "[encoded data removed]",
      "text/plain": [
       "<Figure size 640x480 with 1 Axes>"
      ]
     },
     "metadata": {},
     "output_type": "display_data"
    }
   ],
   "source": [
    "Group20_data['Perf_effi_per_emp'].hist()"
   ]
  },
  {
   "cell_type": "code",
   "execution_count": 29,
   "id": "8537f95d",
   "metadata": {},
   "outputs": [
    {
     "name": "stdout",
     "output_type": "stream",
     "text": [
      "<class 'pandas.core.frame.DataFrame'>\n",
      "Int64Index: 7158 entries, 0 to 9999\n",
      "Data columns (total 67 columns):\n",
      " #   Column             Non-Null Count  Dtype  \n",
      "---  ------             --------------  -----  \n",
      " 0   Index              7158 non-null   int64  \n",
      " 1   SL_NO              7157 non-null   float64\n",
      " 2   ST_CODE            7158 non-null   int64  \n",
      " 3   DIST_CODE          7158 non-null   int64  \n",
      " 4   TTM_CODE           5580 non-null   float64\n",
      " 5   SECTOR_CODE        7158 non-null   int64  \n",
      " 6   VT_CODE            5656 non-null   float64\n",
      " 7   WORKED_FOR_1D      7158 non-null   int64  \n",
      " 8   CLOSED_Y           7158 non-null   object \n",
      " 9   OPER_DUR_MM        7158 non-null   int64  \n",
      " 10  OPER_DUR_DD        2149 non-null   float64\n",
      " 11  SURVEY_CODE        7158 non-null   int64  \n",
      " 12  NIC_CODE           7158 non-null   int64  \n",
      " 13  PERM_REG_Y         7043 non-null   float64\n",
      " 14  FACTORY_ACT        7158 non-null   int64  \n",
      " 15  INIT_PROD_Y        7043 non-null   float64\n",
      " 16  UNIT_TYPE          7158 non-null   int64  \n",
      " 17  ANCI_UNIT          7158 non-null   int64  \n",
      " 18  ORG_TYPE           7158 non-null   int64  \n",
      " 19  WOMAN_ENT          7158 non-null   int64  \n",
      " 20  MKT_VAL_FA         7158 non-null   int64  \n",
      " 21  ORI_PURC_VAL_PM    7158 non-null   int64  \n",
      " 22  PM_INST_Y          6985 non-null   float64\n",
      " 23  EMP_TOTAL          7158 non-null   int64  \n",
      " 24  EMP_MALE           7111 non-null   float64\n",
      " 25  EMP_FEMALE         1561 non-null   float64\n",
      " 26  EMP_CHILD          43 non-null     float64\n",
      " 27  EMP_SC             1908 non-null   float64\n",
      " 28  EMP_ST             1136 non-null   float64\n",
      " 29  EMP_OBC            5023 non-null   float64\n",
      " 30  EMP_OTHER          3844 non-null   float64\n",
      " 31  POWER_SRC          7158 non-null   int64  \n",
      " 32  PROD1_CODE         6863 non-null   float64\n",
      " 33  PROD2_CODE         712 non-null    float64\n",
      " 34  PROD3_CODE         164 non-null    float64\n",
      " 35  PROD4_CODE         74 non-null     float64\n",
      " 36  PROD5_CODE         7158 non-null   object \n",
      " 37  ACTI_NATURE        7158 non-null   int64  \n",
      " 38  OPER_NATURE        7158 non-null   int64  \n",
      " 39  MAN_BY             7158 non-null   int64  \n",
      " 40  MAN_CASTE          7158 non-null   int64  \n",
      " 41  REG_UNDER_SPR      7158 non-null   int64  \n",
      " 42  ACC_EXIST          7158 non-null   int64  \n",
      " 43  COMP_EXIST         7158 non-null   int64  \n",
      " 44  KNOW_HOW           7158 non-null   int64  \n",
      " 45  GOP_Year3          7158 non-null   int64  \n",
      " 46  GOP_Year2          7122 non-null   float64\n",
      " 47  GOP_Year1          7084 non-null   float64\n",
      " 48  VOE_Year3          7158 non-null   int64  \n",
      " 49  OS_LOAN_Year3      7158 non-null   int64  \n",
      " 50  OS_INST_SRC        1255 non-null   float64\n",
      " 51  OS_NONINST_SRC     1255 non-null   float64\n",
      " 52  NET_Year2          7125 non-null   float64\n",
      " 53  NET_Year3          7158 non-null   int64  \n",
      " 54  NET_STATUS_Year2   7158 non-null   int64  \n",
      " 55  REPAYMENT_DELAY    613 non-null    float64\n",
      " 56  DECLINE_IN_GOP     7158 non-null   int64  \n",
      " 57  DMD_PROB           1131 non-null   float64\n",
      " 58  WORK_CAP_PROB      1131 non-null   float64\n",
      " 59  RAW_MTRL_PROB      1131 non-null   float64\n",
      " 60  POWER_RPOB         1131 non-null   float64\n",
      " 61  LABOUR_PROB        1131 non-null   float64\n",
      " 62  MKT_PROB           1131 non-null   float64\n",
      " 63  EQUIP_PROB         1131 non-null   float64\n",
      " 64  MGMT_PROB          1131 non-null   float64\n",
      " 65  GOP_diff_wrt_py    7122 non-null   float64\n",
      " 66  Perf_effi_per_emp  7158 non-null   float64\n",
      "dtypes: float64(34), int64(31), object(2)\n",
      "memory usage: 3.7+ MB\n"
     ]
    }
   ],
   "source": [
    "Group20_data.info()"
   ]
  },
  {
   "cell_type": "code",
   "execution_count": 30,
   "id": "8a44ec42",
   "metadata": {},
   "outputs": [
    {
     "data": {
      "text/plain": [
       "(7158, 67)"
      ]
     },
     "execution_count": 30,
     "metadata": {},
     "output_type": "execute_result"
    }
   ],
   "source": [
    "Group20_data.shape"
   ]
  },
  {
   "cell_type": "markdown",
   "id": "9bca0502",
   "metadata": {},
   "source": [
    "# Answer 3"
   ]
  },
  {
   "cell_type": "markdown",
   "id": "05ba4b72",
   "metadata": {},
   "source": [
    "#### Calculating 99 % Confidence interval for First Measure i.e GOP_diff_wrt_py"
   ]
  },
  {
   "cell_type": "code",
   "execution_count": 31,
   "id": "83016f12",
   "metadata": {},
   "outputs": [
    {
     "data": {
      "text/plain": [
       "(5731.296322427638, 6668.55371969536)"
      ]
     },
     "execution_count": 31,
     "metadata": {},
     "output_type": "execute_result"
    }
   ],
   "source": [
    "## GOP_diff_wrt_py\n",
    "\n",
    "xbar2=Group20_data['GOP_diff_wrt_py'].mean()\n",
    "\n",
    "samplesd2=Group20_data['GOP_diff_wrt_py'].std()\n",
    "\n",
    "n=Group20_data['GOP_diff_wrt_py'].count()\n",
    "\n",
    "# As n=10000 , so degree of freedom=10000-1\n",
    "\n",
    "df=n-1\n",
    "\n",
    "stats.t.interval(0.99, df = n-1, loc = xbar2, scale = samplesd2/np.sqrt(n))"
   ]
  },
  {
   "cell_type": "markdown",
   "id": "7829d2af",
   "metadata": {},
   "source": [
    "### Calculating 99 % Confidence interval for Second Measure i.e Performance_Efficiency_per_employee"
   ]
  },
  {
   "cell_type": "code",
   "execution_count": 32,
   "id": "bba1db90",
   "metadata": {},
   "outputs": [
    {
     "name": "stdout",
     "output_type": "stream",
     "text": [
      "Average Performance per Employee: 109044.57641799386\n"
     ]
    },
    {
     "data": {
      "text/plain": [
       "(29080.705804902114, 30305.239161417543)"
      ]
     },
     "execution_count": 32,
     "metadata": {},
     "output_type": "execute_result"
    }
   ],
   "source": [
    "# 99 % Confidence interval for Second Measure\n",
    "\n",
    "# Performance_Efficiency_per_employee\n",
    "\n",
    "xbar3=Group20_data['Perf_effi_per_emp'].mean()\n",
    "\n",
    "print('Average Performance per Employee:',xbar1)\n",
    "\n",
    "samplesd3=Group20_data['Perf_effi_per_emp'].std()\n",
    "\n",
    "n=Group20_data['Perf_effi_per_emp'].count()\n",
    "\n",
    "# As n=10000 , so degree of freedom=10000-1\n",
    "\n",
    "df=n-1\n",
    "\n",
    "stats.t.interval(0.99, df = n-1, loc = xbar3, scale = samplesd3/np.sqrt(n))"
   ]
  },
  {
   "cell_type": "markdown",
   "id": "80fa4e9b",
   "metadata": {},
   "source": [
    "# Interpretion of these confidence intervals in terms of their relevance to the management.\n",
    "\n",
    "### For the First measure Growth/decline of GOP, we are 99% confident that the  true population mean of the KPI-Growth/Decline of GOP falls within this range of values between 5731.29 and 6668.55.\n",
    "\n",
    "### For the management , Overall, the 99% confidence interval for a business unit's KPI of growth/decline of gross output can provide valuable information to management that can be used to make informed decisions and by providing valuable information about the performance of the unit. For example, if the confidence interval for the KPI of growth/decline of gross output is narrow, it suggests that the business unit's performance is consistent and predictable, and management may be able to set more aggressive targets. Conversely, if the confidence interval is wider, it suggests that the business unit's performance is more variable and unpredictable, and management may need to set more conservative targets.\n",
    "\n",
    "### For the Second measure of Performance efficiency, we are 99% confident that the true population mean of the ratio falls within this range of values. This would indicate that we can estimate with 99% confidence that the average gross output per employee for the business unit is somewhere between 29080.71 to 30305.24.\n",
    "\n",
    "### With relevance to the management, the confidence interval for a business unit's gross output divided by number of employees can be useful in assessing the precision and accuracy of the ratio estimate, and can inform decision making related to resource allocation, operational efficiency, and overall performance of the business unit.\n",
    "\n",
    "\n"
   ]
  },
  {
   "cell_type": "markdown",
   "id": "ab7aaac4",
   "metadata": {},
   "source": [
    "# Answer 4"
   ]
  },
  {
   "cell_type": "markdown",
   "id": "27d2f373",
   "metadata": {},
   "source": [
    "## Part 4 a"
   ]
  },
  {
   "cell_type": "markdown",
   "id": "3ac686fb",
   "metadata": {},
   "source": [
    "#### Assumptions :\n",
    "\n",
    "#### For this question We will use Sample data before removing the outliers. The reason behind is if we use the data without Outlier , we will dropping a sufficient amount of data i.e 28% of records , so to get the actual probablity for the Random Units to be SSSBE will come only with Original Dataset.because in the UNIT_TYPE we don't have a Null."
   ]
  },
  {
   "cell_type": "code",
   "execution_count": 33,
   "id": "7896ca2d",
   "metadata": {},
   "outputs": [],
   "source": [
    "# Calculating probablity that a firm selected random is an SSSBE Unit?\n",
    "\n",
    "# From the Assignment Code book , necessary details are \n",
    "# 1 stands for SSI \n",
    "# 2 stands for SSSBE"
   ]
  },
  {
   "cell_type": "code",
   "execution_count": 34,
   "id": "545c0721",
   "metadata": {},
   "outputs": [
    {
     "data": {
      "text/plain": [
       "(10000, 67)"
      ]
     },
     "execution_count": 34,
     "metadata": {},
     "output_type": "execute_result"
    }
   ],
   "source": [
    "Group20_data_new.shape"
   ]
  },
  {
   "cell_type": "code",
   "execution_count": 35,
   "id": "77a9179f",
   "metadata": {},
   "outputs": [
    {
     "name": "stdout",
     "output_type": "stream",
     "text": [
      "<class 'pandas.core.frame.DataFrame'>\n",
      "RangeIndex: 10000 entries, 0 to 9999\n",
      "Data columns (total 67 columns):\n",
      " #   Column             Non-Null Count  Dtype  \n",
      "---  ------             --------------  -----  \n",
      " 0   Index              10000 non-null  int64  \n",
      " 1   SL_NO              9999 non-null   float64\n",
      " 2   ST_CODE            10000 non-null  int64  \n",
      " 3   DIST_CODE          10000 non-null  int64  \n",
      " 4   TTM_CODE           7400 non-null   float64\n",
      " 5   SECTOR_CODE        10000 non-null  int64  \n",
      " 6   VT_CODE            8042 non-null   float64\n",
      " 7   WORKED_FOR_1D      10000 non-null  int64  \n",
      " 8   CLOSED_Y           10000 non-null  object \n",
      " 9   OPER_DUR_MM        10000 non-null  int64  \n",
      " 10  OPER_DUR_DD        3107 non-null   float64\n",
      " 11  SURVEY_CODE        10000 non-null  int64  \n",
      " 12  NIC_CODE           10000 non-null  int64  \n",
      " 13  PERM_REG_Y         9837 non-null   float64\n",
      " 14  FACTORY_ACT        10000 non-null  int64  \n",
      " 15  INIT_PROD_Y        9849 non-null   float64\n",
      " 16  UNIT_TYPE          10000 non-null  int64  \n",
      " 17  ANCI_UNIT          10000 non-null  int64  \n",
      " 18  ORG_TYPE           10000 non-null  int64  \n",
      " 19  WOMAN_ENT          10000 non-null  int64  \n",
      " 20  MKT_VAL_FA         10000 non-null  int64  \n",
      " 21  ORI_PURC_VAL_PM    10000 non-null  int64  \n",
      " 22  PM_INST_Y          9769 non-null   float64\n",
      " 23  EMP_TOTAL          10000 non-null  int64  \n",
      " 24  EMP_MALE           9941 non-null   float64\n",
      " 25  EMP_FEMALE         2795 non-null   float64\n",
      " 26  EMP_CHILD          60 non-null     float64\n",
      " 27  EMP_SC             3334 non-null   float64\n",
      " 28  EMP_ST             2112 non-null   float64\n",
      " 29  EMP_OBC            7179 non-null   float64\n",
      " 30  EMP_OTHER          6082 non-null   float64\n",
      " 31  POWER_SRC          10000 non-null  int64  \n",
      " 32  PROD1_CODE         9634 non-null   float64\n",
      " 33  PROD2_CODE         1027 non-null   float64\n",
      " 34  PROD3_CODE         281 non-null    float64\n",
      " 35  PROD4_CODE         115 non-null    float64\n",
      " 36  PROD5_CODE         10000 non-null  object \n",
      " 37  ACTI_NATURE        10000 non-null  int64  \n",
      " 38  OPER_NATURE        10000 non-null  int64  \n",
      " 39  MAN_BY             10000 non-null  int64  \n",
      " 40  MAN_CASTE          10000 non-null  int64  \n",
      " 41  REG_UNDER_SPR      10000 non-null  int64  \n",
      " 42  ACC_EXIST          10000 non-null  int64  \n",
      " 43  COMP_EXIST         10000 non-null  int64  \n",
      " 44  KNOW_HOW           10000 non-null  int64  \n",
      " 45  GOP_Year3          10000 non-null  int64  \n",
      " 46  GOP_Year2          9961 non-null   float64\n",
      " 47  GOP_Year1          9888 non-null   float64\n",
      " 48  VOE_Year3          10000 non-null  int64  \n",
      " 49  OS_LOAN_Year3      10000 non-null  int64  \n",
      " 50  OS_INST_SRC        2298 non-null   float64\n",
      " 51  OS_NONINST_SRC     2298 non-null   float64\n",
      " 52  NET_Year2          9961 non-null   float64\n",
      " 53  NET_Year3          10000 non-null  int64  \n",
      " 54  NET_STATUS_Year2   10000 non-null  int64  \n",
      " 55  REPAYMENT_DELAY    1398 non-null   float64\n",
      " 56  DECLINE_IN_GOP     10000 non-null  int64  \n",
      " 57  DMD_PROB           1621 non-null   float64\n",
      " 58  WORK_CAP_PROB      1621 non-null   float64\n",
      " 59  RAW_MTRL_PROB      1621 non-null   float64\n",
      " 60  POWER_RPOB         1621 non-null   float64\n",
      " 61  LABOUR_PROB        1621 non-null   float64\n",
      " 62  MKT_PROB           1621 non-null   float64\n",
      " 63  EQUIP_PROB         1621 non-null   float64\n",
      " 64  MGMT_PROB          1621 non-null   float64\n",
      " 65  GOP_diff_wrt_py    9961 non-null   float64\n",
      " 66  Perf_effi_per_emp  10000 non-null  float64\n",
      "dtypes: float64(34), int64(31), object(2)\n",
      "memory usage: 5.1+ MB\n"
     ]
    }
   ],
   "source": [
    "Group20_data_new.info()"
   ]
  },
  {
   "cell_type": "code",
   "execution_count": 36,
   "id": "edb6e03e",
   "metadata": {},
   "outputs": [
    {
     "name": "stdout",
     "output_type": "stream",
     "text": [
      "Total_Unit_Count 10000\n",
      "SSSBE_Unit_Count 2156\n",
      "Answer : 4a - Hence probablity that a Random Selected firm is an SSSBE Unit:: 0.2156\n"
     ]
    }
   ],
   "source": [
    "# Total Row Count\n",
    "\n",
    "Total_count=Group20_data_new['UNIT_TYPE'].count()\n",
    "\n",
    "print('Total_Unit_Count',Total_count)\n",
    "\n",
    "# SSSBE_Count\n",
    "\n",
    "SSSBE_Count=Group20_data_new[Group20_data_new['UNIT_TYPE']==2]['UNIT_TYPE'].count()\n",
    "\n",
    "print('SSSBE_Unit_Count',SSSBE_Count)\n",
    "\n",
    "print('Answer : 4a - Hence probablity that a Random Selected firm is an SSSBE Unit::',SSSBE_Count/Total_count)"
   ]
  },
  {
   "cell_type": "markdown",
   "id": "a9180106",
   "metadata": {},
   "source": [
    "## Part 4b"
   ]
  },
  {
   "cell_type": "markdown",
   "id": "3f59df46",
   "metadata": {},
   "source": [
    "#### For this question We will use Sample data after removing the outliers. Because we are trying to measure the performance of the Randomly selected Units.\n",
    "\n",
    "#### As we have to calculate the Average Performance of the Units which will not come correctly if we calculate the Data with Outlier #### in this measures we won't get the right values."
   ]
  },
  {
   "cell_type": "code",
   "execution_count": 37,
   "id": "c847a6f3",
   "metadata": {},
   "outputs": [
    {
     "name": "stdout",
     "output_type": "stream",
     "text": [
      "Average Performance 29692.97248315983\n"
     ]
    }
   ],
   "source": [
    "Avg_Perf = Group20_data['Perf_effi_per_emp'].mean()\n",
    "\n",
    "print('Average Performance',Avg_Perf)"
   ]
  },
  {
   "cell_type": "code",
   "execution_count": 38,
   "id": "1f457aa5",
   "metadata": {},
   "outputs": [],
   "source": [
    "Group20_data['Avg_Perf']=Avg_Perf"
   ]
  },
  {
   "cell_type": "code",
   "execution_count": 39,
   "id": "b451b5b9",
   "metadata": {},
   "outputs": [
    {
     "data": {
      "text/html": [
       "<div>\n",
       "<style scoped>\n",
       "    .dataframe tbody tr th:only-of-type {\n",
       "        vertical-align: middle;\n",
       "    }\n",
       "\n",
       "    .dataframe tbody tr th {\n",
       "        vertical-align: top;\n",
       "    }\n",
       "\n",
       "    .dataframe thead th {\n",
       "        text-align: right;\n",
       "    }\n",
       "</style>\n",
       "<table border=\"1\" class=\"dataframe\">\n",
       "  <thead>\n",
       "    <tr style=\"text-align: right;\">\n",
       "      <th></th>\n",
       "      <th>Index</th>\n",
       "      <th>SL_NO</th>\n",
       "      <th>ST_CODE</th>\n",
       "      <th>DIST_CODE</th>\n",
       "      <th>TTM_CODE</th>\n",
       "      <th>SECTOR_CODE</th>\n",
       "      <th>VT_CODE</th>\n",
       "      <th>WORKED_FOR_1D</th>\n",
       "      <th>CLOSED_Y</th>\n",
       "      <th>OPER_DUR_MM</th>\n",
       "      <th>...</th>\n",
       "      <th>WORK_CAP_PROB</th>\n",
       "      <th>RAW_MTRL_PROB</th>\n",
       "      <th>POWER_RPOB</th>\n",
       "      <th>LABOUR_PROB</th>\n",
       "      <th>MKT_PROB</th>\n",
       "      <th>EQUIP_PROB</th>\n",
       "      <th>MGMT_PROB</th>\n",
       "      <th>GOP_diff_wrt_py</th>\n",
       "      <th>Perf_effi_per_emp</th>\n",
       "      <th>Avg_Perf</th>\n",
       "    </tr>\n",
       "  </thead>\n",
       "  <tbody>\n",
       "    <tr>\n",
       "      <th>0</th>\n",
       "      <td>26222</td>\n",
       "      <td>100937.0</td>\n",
       "      <td>28</td>\n",
       "      <td>12</td>\n",
       "      <td>14.0</td>\n",
       "      <td>1</td>\n",
       "      <td>13549.0</td>\n",
       "      <td>1</td>\n",
       "      <td></td>\n",
       "      <td>12</td>\n",
       "      <td>...</td>\n",
       "      <td>NaN</td>\n",
       "      <td>NaN</td>\n",
       "      <td>NaN</td>\n",
       "      <td>NaN</td>\n",
       "      <td>NaN</td>\n",
       "      <td>NaN</td>\n",
       "      <td>NaN</td>\n",
       "      <td>0.0</td>\n",
       "      <td>19000.000000</td>\n",
       "      <td>29692.972483</td>\n",
       "    </tr>\n",
       "    <tr>\n",
       "      <th>2</th>\n",
       "      <td>16430</td>\n",
       "      <td>88319.0</td>\n",
       "      <td>28</td>\n",
       "      <td>6</td>\n",
       "      <td>NaN</td>\n",
       "      <td>2</td>\n",
       "      <td>406030.0</td>\n",
       "      <td>1</td>\n",
       "      <td></td>\n",
       "      <td>8</td>\n",
       "      <td>...</td>\n",
       "      <td>1.0</td>\n",
       "      <td>2.0</td>\n",
       "      <td>2.0</td>\n",
       "      <td>2.0</td>\n",
       "      <td>2.0</td>\n",
       "      <td>2.0</td>\n",
       "      <td>2.0</td>\n",
       "      <td>-31000.0</td>\n",
       "      <td>45333.333333</td>\n",
       "      <td>29692.972483</td>\n",
       "    </tr>\n",
       "    <tr>\n",
       "      <th>6</th>\n",
       "      <td>55225</td>\n",
       "      <td>72257.0</td>\n",
       "      <td>28</td>\n",
       "      <td>11</td>\n",
       "      <td>1.0</td>\n",
       "      <td>1</td>\n",
       "      <td>10932.0</td>\n",
       "      <td>1</td>\n",
       "      <td></td>\n",
       "      <td>12</td>\n",
       "      <td>...</td>\n",
       "      <td>NaN</td>\n",
       "      <td>NaN</td>\n",
       "      <td>NaN</td>\n",
       "      <td>NaN</td>\n",
       "      <td>NaN</td>\n",
       "      <td>NaN</td>\n",
       "      <td>NaN</td>\n",
       "      <td>10000.0</td>\n",
       "      <td>50000.000000</td>\n",
       "      <td>29692.972483</td>\n",
       "    </tr>\n",
       "    <tr>\n",
       "      <th>8</th>\n",
       "      <td>35754</td>\n",
       "      <td>37821.0</td>\n",
       "      <td>28</td>\n",
       "      <td>10</td>\n",
       "      <td>33.0</td>\n",
       "      <td>2</td>\n",
       "      <td>10640.0</td>\n",
       "      <td>1</td>\n",
       "      <td></td>\n",
       "      <td>12</td>\n",
       "      <td>...</td>\n",
       "      <td>NaN</td>\n",
       "      <td>NaN</td>\n",
       "      <td>NaN</td>\n",
       "      <td>NaN</td>\n",
       "      <td>NaN</td>\n",
       "      <td>NaN</td>\n",
       "      <td>NaN</td>\n",
       "      <td>15000.0</td>\n",
       "      <td>22500.000000</td>\n",
       "      <td>29692.972483</td>\n",
       "    </tr>\n",
       "    <tr>\n",
       "      <th>10</th>\n",
       "      <td>19168</td>\n",
       "      <td>41934.0</td>\n",
       "      <td>28</td>\n",
       "      <td>16</td>\n",
       "      <td>21.0</td>\n",
       "      <td>2</td>\n",
       "      <td>416030.0</td>\n",
       "      <td>1</td>\n",
       "      <td></td>\n",
       "      <td>10</td>\n",
       "      <td>...</td>\n",
       "      <td>NaN</td>\n",
       "      <td>NaN</td>\n",
       "      <td>NaN</td>\n",
       "      <td>NaN</td>\n",
       "      <td>NaN</td>\n",
       "      <td>NaN</td>\n",
       "      <td>NaN</td>\n",
       "      <td>41200.0</td>\n",
       "      <td>79200.000000</td>\n",
       "      <td>29692.972483</td>\n",
       "    </tr>\n",
       "  </tbody>\n",
       "</table>\n",
       "<p>5 rows × 68 columns</p>\n",
       "</div>"
      ],
      "text/plain": [
       "    Index     SL_NO  ST_CODE  DIST_CODE  TTM_CODE  SECTOR_CODE   VT_CODE  \\\n",
       "0   26222  100937.0       28         12      14.0            1   13549.0   \n",
       "2   16430   88319.0       28          6       NaN            2  406030.0   \n",
       "6   55225   72257.0       28         11       1.0            1   10932.0   \n",
       "8   35754   37821.0       28         10      33.0            2   10640.0   \n",
       "10  19168   41934.0       28         16      21.0            2  416030.0   \n",
       "\n",
       "    WORKED_FOR_1D CLOSED_Y  OPER_DUR_MM  ...  WORK_CAP_PROB  RAW_MTRL_PROB  \\\n",
       "0               1                    12  ...            NaN            NaN   \n",
       "2               1                     8  ...            1.0            2.0   \n",
       "6               1                    12  ...            NaN            NaN   \n",
       "8               1                    12  ...            NaN            NaN   \n",
       "10              1                    10  ...            NaN            NaN   \n",
       "\n",
       "    POWER_RPOB  LABOUR_PROB  MKT_PROB  EQUIP_PROB  MGMT_PROB  GOP_diff_wrt_py  \\\n",
       "0          NaN          NaN       NaN         NaN        NaN              0.0   \n",
       "2          2.0          2.0       2.0         2.0        2.0         -31000.0   \n",
       "6          NaN          NaN       NaN         NaN        NaN          10000.0   \n",
       "8          NaN          NaN       NaN         NaN        NaN          15000.0   \n",
       "10         NaN          NaN       NaN         NaN        NaN          41200.0   \n",
       "\n",
       "    Perf_effi_per_emp      Avg_Perf  \n",
       "0        19000.000000  29692.972483  \n",
       "2        45333.333333  29692.972483  \n",
       "6        50000.000000  29692.972483  \n",
       "8        22500.000000  29692.972483  \n",
       "10       79200.000000  29692.972483  \n",
       "\n",
       "[5 rows x 68 columns]"
      ]
     },
     "execution_count": 39,
     "metadata": {},
     "output_type": "execute_result"
    }
   ],
   "source": [
    "Group20_data.head()"
   ]
  },
  {
   "cell_type": "code",
   "execution_count": 40,
   "id": "89f3a97c",
   "metadata": {},
   "outputs": [],
   "source": [
    "Group20_data['Good_Unit']=np.where(Group20_data['Perf_effi_per_emp']>Group20_data['Avg_Perf'],1,0)\n",
    "Group20_data['Bad_Unit']=np.where(Group20_data['Perf_effi_per_emp']<Group20_data['Avg_Perf'],1,0)"
   ]
  },
  {
   "cell_type": "code",
   "execution_count": 41,
   "id": "c10cf634",
   "metadata": {},
   "outputs": [
    {
     "data": {
      "text/plain": [
       "3035"
      ]
     },
     "execution_count": 41,
     "metadata": {},
     "output_type": "execute_result"
    }
   ],
   "source": [
    "# Count of Small Scale Units performing greater than average performance\n",
    "\n",
    "Group20_data[Group20_data['Good_Unit']==1]['Good_Unit'].sum()"
   ]
  },
  {
   "cell_type": "code",
   "execution_count": 42,
   "id": "0acc2fc9",
   "metadata": {},
   "outputs": [
    {
     "data": {
      "text/plain": [
       "4123"
      ]
     },
     "execution_count": 42,
     "metadata": {},
     "output_type": "execute_result"
    }
   ],
   "source": [
    "# Count of Small Scale Units performing lesser than average performance\n",
    "\n",
    "Group20_data[Group20_data['Bad_Unit']==1]['Bad_Unit'].sum()"
   ]
  },
  {
   "cell_type": "code",
   "execution_count": 43,
   "id": "42a341bb",
   "metadata": {},
   "outputs": [
    {
     "data": {
      "text/html": [
       "<div>\n",
       "<style scoped>\n",
       "    .dataframe tbody tr th:only-of-type {\n",
       "        vertical-align: middle;\n",
       "    }\n",
       "\n",
       "    .dataframe tbody tr th {\n",
       "        vertical-align: top;\n",
       "    }\n",
       "\n",
       "    .dataframe thead th {\n",
       "        text-align: right;\n",
       "    }\n",
       "</style>\n",
       "<table border=\"1\" class=\"dataframe\">\n",
       "  <thead>\n",
       "    <tr style=\"text-align: right;\">\n",
       "      <th></th>\n",
       "      <th>Index</th>\n",
       "      <th>SL_NO</th>\n",
       "      <th>ST_CODE</th>\n",
       "      <th>DIST_CODE</th>\n",
       "      <th>TTM_CODE</th>\n",
       "      <th>SECTOR_CODE</th>\n",
       "      <th>VT_CODE</th>\n",
       "      <th>WORKED_FOR_1D</th>\n",
       "      <th>CLOSED_Y</th>\n",
       "      <th>OPER_DUR_MM</th>\n",
       "      <th>...</th>\n",
       "      <th>POWER_RPOB</th>\n",
       "      <th>LABOUR_PROB</th>\n",
       "      <th>MKT_PROB</th>\n",
       "      <th>EQUIP_PROB</th>\n",
       "      <th>MGMT_PROB</th>\n",
       "      <th>GOP_diff_wrt_py</th>\n",
       "      <th>Perf_effi_per_emp</th>\n",
       "      <th>Avg_Perf</th>\n",
       "      <th>Good_Unit</th>\n",
       "      <th>Bad_Unit</th>\n",
       "    </tr>\n",
       "  </thead>\n",
       "  <tbody>\n",
       "    <tr>\n",
       "      <th>0</th>\n",
       "      <td>26222</td>\n",
       "      <td>100937.0</td>\n",
       "      <td>28</td>\n",
       "      <td>12</td>\n",
       "      <td>14.0</td>\n",
       "      <td>1</td>\n",
       "      <td>13549.0</td>\n",
       "      <td>1</td>\n",
       "      <td></td>\n",
       "      <td>12</td>\n",
       "      <td>...</td>\n",
       "      <td>NaN</td>\n",
       "      <td>NaN</td>\n",
       "      <td>NaN</td>\n",
       "      <td>NaN</td>\n",
       "      <td>NaN</td>\n",
       "      <td>0.0</td>\n",
       "      <td>19000.000000</td>\n",
       "      <td>29692.972483</td>\n",
       "      <td>0</td>\n",
       "      <td>1</td>\n",
       "    </tr>\n",
       "    <tr>\n",
       "      <th>2</th>\n",
       "      <td>16430</td>\n",
       "      <td>88319.0</td>\n",
       "      <td>28</td>\n",
       "      <td>6</td>\n",
       "      <td>NaN</td>\n",
       "      <td>2</td>\n",
       "      <td>406030.0</td>\n",
       "      <td>1</td>\n",
       "      <td></td>\n",
       "      <td>8</td>\n",
       "      <td>...</td>\n",
       "      <td>2.0</td>\n",
       "      <td>2.0</td>\n",
       "      <td>2.0</td>\n",
       "      <td>2.0</td>\n",
       "      <td>2.0</td>\n",
       "      <td>-31000.0</td>\n",
       "      <td>45333.333333</td>\n",
       "      <td>29692.972483</td>\n",
       "      <td>1</td>\n",
       "      <td>0</td>\n",
       "    </tr>\n",
       "    <tr>\n",
       "      <th>6</th>\n",
       "      <td>55225</td>\n",
       "      <td>72257.0</td>\n",
       "      <td>28</td>\n",
       "      <td>11</td>\n",
       "      <td>1.0</td>\n",
       "      <td>1</td>\n",
       "      <td>10932.0</td>\n",
       "      <td>1</td>\n",
       "      <td></td>\n",
       "      <td>12</td>\n",
       "      <td>...</td>\n",
       "      <td>NaN</td>\n",
       "      <td>NaN</td>\n",
       "      <td>NaN</td>\n",
       "      <td>NaN</td>\n",
       "      <td>NaN</td>\n",
       "      <td>10000.0</td>\n",
       "      <td>50000.000000</td>\n",
       "      <td>29692.972483</td>\n",
       "      <td>1</td>\n",
       "      <td>0</td>\n",
       "    </tr>\n",
       "    <tr>\n",
       "      <th>8</th>\n",
       "      <td>35754</td>\n",
       "      <td>37821.0</td>\n",
       "      <td>28</td>\n",
       "      <td>10</td>\n",
       "      <td>33.0</td>\n",
       "      <td>2</td>\n",
       "      <td>10640.0</td>\n",
       "      <td>1</td>\n",
       "      <td></td>\n",
       "      <td>12</td>\n",
       "      <td>...</td>\n",
       "      <td>NaN</td>\n",
       "      <td>NaN</td>\n",
       "      <td>NaN</td>\n",
       "      <td>NaN</td>\n",
       "      <td>NaN</td>\n",
       "      <td>15000.0</td>\n",
       "      <td>22500.000000</td>\n",
       "      <td>29692.972483</td>\n",
       "      <td>0</td>\n",
       "      <td>1</td>\n",
       "    </tr>\n",
       "    <tr>\n",
       "      <th>10</th>\n",
       "      <td>19168</td>\n",
       "      <td>41934.0</td>\n",
       "      <td>28</td>\n",
       "      <td>16</td>\n",
       "      <td>21.0</td>\n",
       "      <td>2</td>\n",
       "      <td>416030.0</td>\n",
       "      <td>1</td>\n",
       "      <td></td>\n",
       "      <td>10</td>\n",
       "      <td>...</td>\n",
       "      <td>NaN</td>\n",
       "      <td>NaN</td>\n",
       "      <td>NaN</td>\n",
       "      <td>NaN</td>\n",
       "      <td>NaN</td>\n",
       "      <td>41200.0</td>\n",
       "      <td>79200.000000</td>\n",
       "      <td>29692.972483</td>\n",
       "      <td>1</td>\n",
       "      <td>0</td>\n",
       "    </tr>\n",
       "  </tbody>\n",
       "</table>\n",
       "<p>5 rows × 70 columns</p>\n",
       "</div>"
      ],
      "text/plain": [
       "    Index     SL_NO  ST_CODE  DIST_CODE  TTM_CODE  SECTOR_CODE   VT_CODE  \\\n",
       "0   26222  100937.0       28         12      14.0            1   13549.0   \n",
       "2   16430   88319.0       28          6       NaN            2  406030.0   \n",
       "6   55225   72257.0       28         11       1.0            1   10932.0   \n",
       "8   35754   37821.0       28         10      33.0            2   10640.0   \n",
       "10  19168   41934.0       28         16      21.0            2  416030.0   \n",
       "\n",
       "    WORKED_FOR_1D CLOSED_Y  OPER_DUR_MM  ...  POWER_RPOB  LABOUR_PROB  \\\n",
       "0               1                    12  ...         NaN          NaN   \n",
       "2               1                     8  ...         2.0          2.0   \n",
       "6               1                    12  ...         NaN          NaN   \n",
       "8               1                    12  ...         NaN          NaN   \n",
       "10              1                    10  ...         NaN          NaN   \n",
       "\n",
       "    MKT_PROB  EQUIP_PROB  MGMT_PROB  GOP_diff_wrt_py  Perf_effi_per_emp  \\\n",
       "0        NaN         NaN        NaN              0.0       19000.000000   \n",
       "2        2.0         2.0        2.0         -31000.0       45333.333333   \n",
       "6        NaN         NaN        NaN          10000.0       50000.000000   \n",
       "8        NaN         NaN        NaN          15000.0       22500.000000   \n",
       "10       NaN         NaN        NaN          41200.0       79200.000000   \n",
       "\n",
       "        Avg_Perf  Good_Unit  Bad_Unit  \n",
       "0   29692.972483          0         1  \n",
       "2   29692.972483          1         0  \n",
       "6   29692.972483          1         0  \n",
       "8   29692.972483          0         1  \n",
       "10  29692.972483          1         0  \n",
       "\n",
       "[5 rows x 70 columns]"
      ]
     },
     "execution_count": 43,
     "metadata": {},
     "output_type": "execute_result"
    }
   ],
   "source": [
    "Group20_data.head()"
   ]
  },
  {
   "cell_type": "code",
   "execution_count": 44,
   "id": "a0bcdd5f",
   "metadata": {},
   "outputs": [
    {
     "name": "stdout",
     "output_type": "stream",
     "text": [
      "Answer : 4B - Probablity that a firm selected at Random is Good in Performance: 0.4240011176306231\n"
     ]
    }
   ],
   "source": [
    "# Calculating Prob that a Firm selected randomly will be Good in performance\n",
    "\n",
    "Probablity_Good_Perf = Group20_data[Group20_data['Good_Unit']==1]['Good_Unit'].sum()/Group20_data['Good_Unit'].count()\n",
    "Probablity_Good_Perf  ### Answer 4 b\n",
    "\n",
    "print('Answer : 4B - Probablity that a firm selected at Random is Good in Performance:',Probablity_Good_Perf)"
   ]
  },
  {
   "cell_type": "code",
   "execution_count": 45,
   "id": "e1400263",
   "metadata": {},
   "outputs": [
    {
     "name": "stdout",
     "output_type": "stream",
     "text": [
      "Answer : 4B - Probablity that a firm selected at Random is Bad in Performance: 0.5759988823693769\n"
     ]
    }
   ],
   "source": [
    "# Calculating Prob that a Firm selected randomly will be Bad in performance\n",
    "\n",
    "Probablity_Bad_Perf = Group20_data[Group20_data['Bad_Unit']==1]['Bad_Unit'].sum()/Group20_data['Bad_Unit'].count()\n",
    "Probablity_Bad_Perf ## Answer 4b\n",
    "\n",
    "print('Answer : 4B - Probablity that a firm selected at Random is Bad in Performance:',Probablity_Bad_Perf)"
   ]
  },
  {
   "cell_type": "markdown",
   "id": "d616e81e",
   "metadata": {},
   "source": [
    "## Part 4c"
   ]
  },
  {
   "cell_type": "markdown",
   "id": "a760f169",
   "metadata": {},
   "source": [
    "#### For this question We will use Sample data After removing the outliers."
   ]
  },
  {
   "cell_type": "code",
   "execution_count": 46,
   "id": "692c1cee",
   "metadata": {},
   "outputs": [
    {
     "data": {
      "text/html": [
       "<div>\n",
       "<style scoped>\n",
       "    .dataframe tbody tr th:only-of-type {\n",
       "        vertical-align: middle;\n",
       "    }\n",
       "\n",
       "    .dataframe tbody tr th {\n",
       "        vertical-align: top;\n",
       "    }\n",
       "\n",
       "    .dataframe thead th {\n",
       "        text-align: right;\n",
       "    }\n",
       "</style>\n",
       "<table border=\"1\" class=\"dataframe\">\n",
       "  <thead>\n",
       "    <tr style=\"text-align: right;\">\n",
       "      <th></th>\n",
       "      <th>Index</th>\n",
       "      <th>SL_NO</th>\n",
       "      <th>ST_CODE</th>\n",
       "      <th>DIST_CODE</th>\n",
       "      <th>TTM_CODE</th>\n",
       "      <th>SECTOR_CODE</th>\n",
       "      <th>VT_CODE</th>\n",
       "      <th>WORKED_FOR_1D</th>\n",
       "      <th>CLOSED_Y</th>\n",
       "      <th>OPER_DUR_MM</th>\n",
       "      <th>...</th>\n",
       "      <th>DMD_PROB</th>\n",
       "      <th>WORK_CAP_PROB</th>\n",
       "      <th>RAW_MTRL_PROB</th>\n",
       "      <th>POWER_RPOB</th>\n",
       "      <th>LABOUR_PROB</th>\n",
       "      <th>MKT_PROB</th>\n",
       "      <th>EQUIP_PROB</th>\n",
       "      <th>MGMT_PROB</th>\n",
       "      <th>GOP_diff_wrt_py</th>\n",
       "      <th>Perf_effi_per_emp</th>\n",
       "    </tr>\n",
       "  </thead>\n",
       "  <tbody>\n",
       "    <tr>\n",
       "      <th>0</th>\n",
       "      <td>26222</td>\n",
       "      <td>100937.0</td>\n",
       "      <td>28</td>\n",
       "      <td>12</td>\n",
       "      <td>14.0</td>\n",
       "      <td>1</td>\n",
       "      <td>13549.0</td>\n",
       "      <td>1</td>\n",
       "      <td></td>\n",
       "      <td>12</td>\n",
       "      <td>...</td>\n",
       "      <td>NaN</td>\n",
       "      <td>NaN</td>\n",
       "      <td>NaN</td>\n",
       "      <td>NaN</td>\n",
       "      <td>NaN</td>\n",
       "      <td>NaN</td>\n",
       "      <td>NaN</td>\n",
       "      <td>NaN</td>\n",
       "      <td>0.0</td>\n",
       "      <td>19000.000000</td>\n",
       "    </tr>\n",
       "    <tr>\n",
       "      <th>1</th>\n",
       "      <td>61229</td>\n",
       "      <td>87025.0</td>\n",
       "      <td>28</td>\n",
       "      <td>9</td>\n",
       "      <td>42.0</td>\n",
       "      <td>1</td>\n",
       "      <td>9506.0</td>\n",
       "      <td>1</td>\n",
       "      <td></td>\n",
       "      <td>12</td>\n",
       "      <td>...</td>\n",
       "      <td>NaN</td>\n",
       "      <td>NaN</td>\n",
       "      <td>NaN</td>\n",
       "      <td>NaN</td>\n",
       "      <td>NaN</td>\n",
       "      <td>NaN</td>\n",
       "      <td>NaN</td>\n",
       "      <td>NaN</td>\n",
       "      <td>56500.0</td>\n",
       "      <td>135100.000000</td>\n",
       "    </tr>\n",
       "    <tr>\n",
       "      <th>2</th>\n",
       "      <td>16430</td>\n",
       "      <td>88319.0</td>\n",
       "      <td>28</td>\n",
       "      <td>6</td>\n",
       "      <td>NaN</td>\n",
       "      <td>2</td>\n",
       "      <td>406030.0</td>\n",
       "      <td>1</td>\n",
       "      <td></td>\n",
       "      <td>8</td>\n",
       "      <td>...</td>\n",
       "      <td>2.0</td>\n",
       "      <td>1.0</td>\n",
       "      <td>2.0</td>\n",
       "      <td>2.0</td>\n",
       "      <td>2.0</td>\n",
       "      <td>2.0</td>\n",
       "      <td>2.0</td>\n",
       "      <td>2.0</td>\n",
       "      <td>-31000.0</td>\n",
       "      <td>45333.333333</td>\n",
       "    </tr>\n",
       "    <tr>\n",
       "      <th>3</th>\n",
       "      <td>3829</td>\n",
       "      <td>13193.0</td>\n",
       "      <td>28</td>\n",
       "      <td>14</td>\n",
       "      <td>22.0</td>\n",
       "      <td>2</td>\n",
       "      <td>0.0</td>\n",
       "      <td>1</td>\n",
       "      <td></td>\n",
       "      <td>12</td>\n",
       "      <td>...</td>\n",
       "      <td>NaN</td>\n",
       "      <td>NaN</td>\n",
       "      <td>NaN</td>\n",
       "      <td>NaN</td>\n",
       "      <td>NaN</td>\n",
       "      <td>NaN</td>\n",
       "      <td>NaN</td>\n",
       "      <td>NaN</td>\n",
       "      <td>90000.0</td>\n",
       "      <td>91666.666667</td>\n",
       "    </tr>\n",
       "    <tr>\n",
       "      <th>4</th>\n",
       "      <td>11926</td>\n",
       "      <td>46792.0</td>\n",
       "      <td>28</td>\n",
       "      <td>21</td>\n",
       "      <td>54.0</td>\n",
       "      <td>1</td>\n",
       "      <td>25649.0</td>\n",
       "      <td>1</td>\n",
       "      <td></td>\n",
       "      <td>12</td>\n",
       "      <td>...</td>\n",
       "      <td>1.0</td>\n",
       "      <td>1.0</td>\n",
       "      <td>2.0</td>\n",
       "      <td>1.0</td>\n",
       "      <td>1.0</td>\n",
       "      <td>1.0</td>\n",
       "      <td>2.0</td>\n",
       "      <td>2.0</td>\n",
       "      <td>-31200.0</td>\n",
       "      <td>112011.111111</td>\n",
       "    </tr>\n",
       "  </tbody>\n",
       "</table>\n",
       "<p>5 rows × 67 columns</p>\n",
       "</div>"
      ],
      "text/plain": [
       "   Index     SL_NO  ST_CODE  DIST_CODE  TTM_CODE  SECTOR_CODE   VT_CODE  \\\n",
       "0  26222  100937.0       28         12      14.0            1   13549.0   \n",
       "1  61229   87025.0       28          9      42.0            1    9506.0   \n",
       "2  16430   88319.0       28          6       NaN            2  406030.0   \n",
       "3   3829   13193.0       28         14      22.0            2       0.0   \n",
       "4  11926   46792.0       28         21      54.0            1   25649.0   \n",
       "\n",
       "   WORKED_FOR_1D CLOSED_Y  OPER_DUR_MM  ...  DMD_PROB  WORK_CAP_PROB  \\\n",
       "0              1                    12  ...       NaN            NaN   \n",
       "1              1                    12  ...       NaN            NaN   \n",
       "2              1                     8  ...       2.0            1.0   \n",
       "3              1                    12  ...       NaN            NaN   \n",
       "4              1                    12  ...       1.0            1.0   \n",
       "\n",
       "   RAW_MTRL_PROB  POWER_RPOB  LABOUR_PROB  MKT_PROB  EQUIP_PROB  MGMT_PROB  \\\n",
       "0            NaN         NaN          NaN       NaN         NaN        NaN   \n",
       "1            NaN         NaN          NaN       NaN         NaN        NaN   \n",
       "2            2.0         2.0          2.0       2.0         2.0        2.0   \n",
       "3            NaN         NaN          NaN       NaN         NaN        NaN   \n",
       "4            2.0         1.0          1.0       1.0         2.0        2.0   \n",
       "\n",
       "   GOP_diff_wrt_py  Perf_effi_per_emp  \n",
       "0              0.0       19000.000000  \n",
       "1          56500.0      135100.000000  \n",
       "2         -31000.0       45333.333333  \n",
       "3          90000.0       91666.666667  \n",
       "4         -31200.0      112011.111111  \n",
       "\n",
       "[5 rows x 67 columns]"
      ]
     },
     "execution_count": 46,
     "metadata": {},
     "output_type": "execute_result"
    }
   ],
   "source": [
    "Group20_data['SSSBE_Unit_Count']=np.where(Group20_data['UNIT_TYPE']==2,1,0)\n",
    "Group20_data_new.head()"
   ]
  },
  {
   "cell_type": "code",
   "execution_count": 47,
   "id": "c88d4aea",
   "metadata": {},
   "outputs": [
    {
     "data": {
      "text/plain": [
       "658"
      ]
     },
     "execution_count": 47,
     "metadata": {},
     "output_type": "execute_result"
    }
   ],
   "source": [
    "Group20_data['SSSBE_Unit_GOOD_Perf']=np.logical_and(Group20_data['SSSBE_Unit_Count']==1, Group20_data['Good_Unit']==1)\n",
    "\n",
    "Group20_data['SSSBE_Unit_GOOD_Perf'].sum()"
   ]
  },
  {
   "cell_type": "code",
   "execution_count": 48,
   "id": "bb72d0ad",
   "metadata": {},
   "outputs": [
    {
     "data": {
      "text/plain": [
       "7158"
      ]
     },
     "execution_count": 48,
     "metadata": {},
     "output_type": "execute_result"
    }
   ],
   "source": [
    "# Total Row count\n",
    "\n",
    "Group20_data['SSSBE_Unit_GOOD_Perf'].count()"
   ]
  },
  {
   "cell_type": "code",
   "execution_count": 49,
   "id": "90c859bf",
   "metadata": {},
   "outputs": [
    {
     "data": {
      "text/plain": [
       "0.0919251187482537"
      ]
     },
     "execution_count": 49,
     "metadata": {},
     "output_type": "execute_result"
    }
   ],
   "source": [
    "# Calculating probablity that a firm selected is SSSBE Unit & Good in Performance\n",
    "\n",
    "prob_SSSBE_Unit_GOOD_Perf=Group20_data['SSSBE_Unit_GOOD_Perf'].sum()/Group20_data['SSSBE_Unit_GOOD_Perf'].count()\n",
    "\n",
    "prob_SSSBE_Unit_GOOD_Perf ## Answer 4 C"
   ]
  },
  {
   "cell_type": "code",
   "execution_count": 50,
   "id": "ac6874a8",
   "metadata": {},
   "outputs": [
    {
     "data": {
      "text/plain": [
       "0.17937971500419111"
      ]
     },
     "execution_count": 50,
     "metadata": {},
     "output_type": "execute_result"
    }
   ],
   "source": [
    "# Calculating probablity that a firm selected is SSSBE Unit & Good in Performance\n",
    "\n",
    "Group20_data['SSSBE_Unit_BAD_Perf']=np.logical_and(Group20_data['SSSBE_Unit_Count']==1, Group20_data['Bad_Unit']==1)\n",
    "\n",
    "Group20_data['SSSBE_Unit_BAD_Perf'].sum()\n",
    "\n",
    "prob_SSSBE_Unit_BAD_Perf=Group20_data['SSSBE_Unit_BAD_Perf'].sum()/Group20_data['SSSBE_Unit_BAD_Perf'].count()\n",
    "\n",
    "prob_SSSBE_Unit_BAD_Perf"
   ]
  },
  {
   "cell_type": "markdown",
   "id": "04563676",
   "metadata": {},
   "source": [
    "# Part 4d"
   ]
  },
  {
   "cell_type": "markdown",
   "id": "593fd31b",
   "metadata": {},
   "source": [
    "### As per calculation in Answer 4c above , Probablity of the SSSBE Units in terms of Good perf is only 9.19 % (0.0919) while probablity of SSSBE Units with Bad performance is 17.93(0.1793) , so Majority of the SSSBE Units are performing bad."
   ]
  },
  {
   "cell_type": "markdown",
   "id": "787d849f",
   "metadata": {},
   "source": [
    "# Answer 5"
   ]
  },
  {
   "cell_type": "markdown",
   "id": "11b0298c",
   "metadata": {},
   "source": [
    "# For this question We will use Original Sample data before removing the outliers."
   ]
  },
  {
   "cell_type": "markdown",
   "id": "1ebec322",
   "metadata": {},
   "source": [
    "#### As question has asked to test One Sided test , even though As per details given in Questions , it is Two tail test.\n",
    "#### So we will do Left Tail & Right Tail Test seperately.\n"
   ]
  },
  {
   "cell_type": "markdown",
   "id": "f380a384",
   "metadata": {},
   "source": [
    "# Left Tail Test"
   ]
  },
  {
   "cell_type": "raw",
   "id": "28bd2e07",
   "metadata": {},
   "source": [
    "### Step 1: Null & Alternate Hypothesis \n",
    "\n",
    "###   Ho : Average Value of Exports(mew)>=87300\n",
    "###   Ha : Average Value of Exports(mew)<87300\n",
    "    \n",
    "### Step 2: Alpha\n",
    "\n",
    "### Alpha is not given , so considering default value of alpha=0.05\n",
    "\n",
    "### Find the Critical Value:\n",
    "### Since the Critical value is based on Alpha, we see that the alpha is given as 0.05.\n",
    "### Hence the Conf Level would be 0.95\n",
    "\n",
    "### Step 3: Calculating Test Statistics"
   ]
  },
  {
   "cell_type": "code",
   "execution_count": 51,
   "id": "49d192eb",
   "metadata": {},
   "outputs": [
    {
     "data": {
      "text/plain": [
       "(10000, 67)"
      ]
     },
     "execution_count": 51,
     "metadata": {},
     "output_type": "execute_result"
    }
   ],
   "source": [
    "# Original Data set provided\n",
    "\n",
    "Group20_data_new.shape"
   ]
  },
  {
   "cell_type": "code",
   "execution_count": 52,
   "id": "0e4a7987",
   "metadata": {},
   "outputs": [
    {
     "data": {
      "text/plain": [
       "<AxesSubplot:>"
      ]
     },
     "execution_count": 52,
     "metadata": {},
     "output_type": "execute_result"
    },
    {
     "data": {
      "image/png": "[encoded data removed]",
      "text/plain": [
       "<Figure size 640x480 with 1 Axes>"
      ]
     },
     "metadata": {},
     "output_type": "display_data"
    }
   ],
   "source": [
    "Group20_data_new['VOE_Year3'].hist()"
   ]
  },
  {
   "cell_type": "code",
   "execution_count": 53,
   "id": "2bdd3373",
   "metadata": {},
   "outputs": [
    {
     "data": {
      "text/plain": [
       "count    1.000000e+04\n",
       "mean     1.066037e+05\n",
       "std      8.574303e+06\n",
       "min      0.000000e+00\n",
       "25%      0.000000e+00\n",
       "50%      0.000000e+00\n",
       "75%      0.000000e+00\n",
       "max      8.540803e+08\n",
       "Name: VOE_Year3, dtype: float64"
      ]
     },
     "execution_count": 53,
     "metadata": {},
     "output_type": "execute_result"
    }
   ],
   "source": [
    "Group20_data_new['VOE_Year3'].describe()"
   ]
  },
  {
   "cell_type": "code",
   "execution_count": 54,
   "id": "2ba2a1af",
   "metadata": {},
   "outputs": [
    {
     "name": "stdout",
     "output_type": "stream",
     "text": [
      "Sample Size: 10000\n",
      "Sample Mean: 106603.7403\n",
      "sample Std Deviation: 8574303.050066367\n",
      "T-statistic value:  0.22513480322878762\n",
      "P-Value:  0.5890604962248547\n"
     ]
    }
   ],
   "source": [
    "mew=87300\n",
    "\n",
    "xbar_voe=Group20_data_new['VOE_Year3'].mean()\n",
    "samplesd_voe = Group20_data_new['VOE_Year3'].std()\n",
    "n=Group20_data_new['VOE_Year3'].count() # Total Record Count is 1000\n",
    "\n",
    "print('Sample Size:',n)\n",
    "\n",
    "print('Sample Mean:',xbar_voe)\n",
    "print('sample Std Deviation:',samplesd_voe)\n",
    "\n",
    "t_stat, p_value = stats.ttest_1samp(Group20_data_new['VOE_Year3'], popmean=87300,alternative='less')\n",
    "\n",
    "print(\"T-statistic value: \", t_stat)  \n",
    "\n",
    "print(\"P-Value: \", p_value)"
   ]
  },
  {
   "cell_type": "code",
   "execution_count": 55,
   "id": "5e438a44",
   "metadata": {},
   "outputs": [
    {
     "data": {
      "text/plain": [
       "(-61469.85643412551, 274677.3370341255)"
      ]
     },
     "execution_count": 55,
     "metadata": {},
     "output_type": "execute_result"
    }
   ],
   "source": [
    "stats.t.interval(0.95, df = n-1, loc = xbar_voe, scale = samplesd_voe/np.sqrt(10000))"
   ]
  },
  {
   "cell_type": "markdown",
   "id": "476048e4",
   "metadata": {},
   "source": [
    "### Inference from above Hypothesis Testing - Left Tail Test\n",
    "\n",
    "### As p-value is greater than alpha so we failed to reject Null Hypothesis.So Population mean is greater than equal to 87300. It means Value of the Exports in Year3 in Rs is greater than or equal to Rs 87300/-"
   ]
  },
  {
   "cell_type": "markdown",
   "id": "b8a0c88e",
   "metadata": {},
   "source": [
    "# Right Tail Test"
   ]
  },
  {
   "cell_type": "raw",
   "id": "254baabe",
   "metadata": {},
   "source": [
    "### Step 1: Null & Alternate Hypothesis \n",
    "\n",
    "###   Ho : Average Value of Exports(mew)<=87300\n",
    "###   Ha : Average Value of Exports(mew)>87300\n",
    "    \n",
    "### Step 2: Alpha\n",
    "\n",
    "### Alpha is not given , so considering alpha=0.05\n",
    "\n",
    "### Find the Critical Value:\n",
    "### Since the Critical value is based on Alpha, we see that the alpha is given as 0.05.\n",
    "### Hence the Conf Level would be 0.95\n",
    "\n",
    "### Step 3: Calculating Test Statistics"
   ]
  },
  {
   "cell_type": "code",
   "execution_count": 56,
   "id": "03c137e4",
   "metadata": {},
   "outputs": [
    {
     "name": "stdout",
     "output_type": "stream",
     "text": [
      "Sample Size: 10000\n",
      "Sample Mean: 106603.7403\n",
      "sample Std Deviation: 8574303.050066367\n",
      "T-statistic value:  0.22513480322878762\n",
      "P-Value:  0.41093950377514543\n"
     ]
    }
   ],
   "source": [
    "mew=87300\n",
    "xbar_voe1=Group20_data_new['VOE_Year3'].mean()\n",
    "samplesd_voe1 = Group20_data_new['VOE_Year3'].std()\n",
    "n=Group20_data_new['VOE_Year3'].count() # Total Record Count is 10000\n",
    "\n",
    "print('Sample Size:',n)\n",
    "\n",
    "print('Sample Mean:',xbar_voe1)\n",
    "print('sample Std Deviation:',samplesd_voe1)\n",
    "\n",
    "t_stat, p_value = stats.ttest_1samp(Group20_data_new['VOE_Year3'], popmean=87300,alternative='greater')\n",
    "\n",
    "print(\"T-statistic value: \", t_stat)  \n",
    "print(\"P-Value: \", p_value)"
   ]
  },
  {
   "cell_type": "code",
   "execution_count": 57,
   "id": "caf773c4",
   "metadata": {},
   "outputs": [],
   "source": [
    "#?stats.ttest_1samp"
   ]
  },
  {
   "cell_type": "code",
   "execution_count": 58,
   "id": "13bb2712",
   "metadata": {},
   "outputs": [
    {
     "data": {
      "text/plain": [
       "(-61469.85643412551, 274677.3370341255)"
      ]
     },
     "execution_count": 58,
     "metadata": {},
     "output_type": "execute_result"
    }
   ],
   "source": [
    "stats.t.interval(0.95, df = n-1, loc = xbar_voe1, scale = samplesd_voe1/np.sqrt(10000))"
   ]
  },
  {
   "cell_type": "markdown",
   "id": "18df999f",
   "metadata": {},
   "source": [
    "# Inference from above Hypothesis Testing - Right Tail Test\n",
    "\n",
    "# As p-value is greater than alpha so we failed to reject Null Hypothesis. So Population mean is less than or equal to 87300. It means Value of the Exports in Year3 in Rs is less than or equal to Rs 87300/-"
   ]
  },
  {
   "cell_type": "markdown",
   "id": "a81769ec",
   "metadata": {},
   "source": [
    "# Answer 6"
   ]
  },
  {
   "cell_type": "code",
   "execution_count": 59,
   "id": "e3a44d0e",
   "metadata": {},
   "outputs": [],
   "source": [
    "from statsmodels.stats.proportion import proportions_ztest"
   ]
  },
  {
   "cell_type": "markdown",
   "id": "e1ecdecc",
   "metadata": {},
   "source": [
    "# One Proportion check for SSSBE Units"
   ]
  },
  {
   "cell_type": "raw",
   "id": "5f099827",
   "metadata": {},
   "source": [
    "### Given Info :\n",
    "\n",
    "# Population proportion p = 0.25\n",
    "\n",
    "# Now proceeding with Hypothesis testing for proportions\n",
    "\n",
    "# Step 1: Null & Alternate Hypothesis\n",
    "\n",
    "# H0: p <= 0.25 (population proportion is equal to hypothesized proportion p0=0.25)\n",
    "# Ha: p > 0.25 (population proportion is equal to hypothesized proportion p0=0.25)\n",
    "\n",
    "# It is a right tail One proportion z-test.\n",
    "\n",
    "# \n",
    "\n",
    "# Step 2: \n",
    "\n",
    "# The test statistic is calculated as:\n",
    "\n",
    "# z = (p-p0) / √p0(1-p0)/n\n",
    "\n",
    "# where:\n",
    "\n",
    "# p: observed sample proportion\n",
    "# p0: hypothesized population proportion\n",
    "# n: sample size "
   ]
  },
  {
   "cell_type": "code",
   "execution_count": 60,
   "id": "1af21c30",
   "metadata": {},
   "outputs": [
    {
     "name": "stdout",
     "output_type": "stream",
     "text": [
      "SSSBE_Count 2156\n",
      "SSI_Count 7844\n",
      "Total_Count 10000\n",
      "\n",
      "\n",
      "SSSBE_proportion 0.2156\n",
      "SSI_proportion 0.7844\n",
      "z_stat: -8.365, p_value: 1.000\n",
      "\n",
      "\n",
      "Inferences are below: \n",
      "\n",
      "Fail to reject the null hypothesis - so we would recommend these special incentives for SSSBE\n"
     ]
    }
   ],
   "source": [
    "SSSBE_Count=Group20_data_new[Group20_data_new['UNIT_TYPE']==2]['UNIT_TYPE'].count()\n",
    "SSI_Count=Group20_data_new[Group20_data_new['UNIT_TYPE']==1]['UNIT_TYPE'].count()\n",
    "Total_Count=Group20_data_new['UNIT_TYPE'].count()\n",
    "\n",
    "print('SSSBE_Count',SSSBE_Count)\n",
    "print('SSI_Count',SSI_Count)\n",
    "print('Total_Count',Total_Count)\n",
    "\n",
    "SSSBE_proportion=SSSBE_Count/Total_Count\n",
    "SSI_proportion=SSI_Count/Total_Count\n",
    "\n",
    "print('\\n')\n",
    "print('SSSBE_proportion',SSSBE_proportion)\n",
    "print('SSI_proportion',SSI_proportion)\n",
    "\n",
    "sample_success = SSSBE_Count\n",
    "sample_size = Total_Count\n",
    "\n",
    "significance=0.05 #(Considering default as 0.05 as alpha is not given in question 6)\n",
    "\n",
    "null_hypothesis = 0.25\n",
    "\n",
    "stat, p_value = proportions_ztest(count=sample_success, nobs=sample_size, value=null_hypothesis, alternative='larger')\n",
    "\n",
    "# report\n",
    "print('z_stat: %0.3f, p_value: %0.3f' % (stat, p_value))\n",
    "\n",
    "print('\\n')\n",
    "print('Inferences are below: \\n')\n",
    "\n",
    "if p_value > significance:\n",
    "   print (\"Fail to reject the null hypothesis - so we would recommend these special incentives for SSSBE\")\n",
    "else:\n",
    "   print (\"Reject the null hypothesis - suggest the alternative hypothesis is true\")"
   ]
  },
  {
   "cell_type": "code",
   "execution_count": 61,
   "id": "b638f22f",
   "metadata": {},
   "outputs": [],
   "source": [
    "#?proportions_ztest"
   ]
  },
  {
   "cell_type": "markdown",
   "id": "79b484a2",
   "metadata": {},
   "source": [
    "# One Proportion check for SSI Units"
   ]
  },
  {
   "cell_type": "raw",
   "id": "7049c1c9",
   "metadata": {},
   "source": [
    "## Given Info :\n",
    "\n",
    "# Population proportion p = 0.25\n",
    "\n",
    "# Now proceeding with Hypothesis testing for proportions\n",
    "\n",
    "# Step 1: Null & Alternate Hypothesis\n",
    "\n",
    "# H0: p <= 0.25 (population proportion is equal to hypothesized proportion p0<=0.25)\n",
    "# Ha: p > 0.25 (population proportion is equal to hypothesized proportion p0=0.25)\n",
    "\n",
    "# It is a right tail One proportion z-test.\n",
    "\n",
    "# \n",
    "\n",
    "# Step 2: \n",
    "\n",
    "# The test statistic is calculated as:\n",
    "\n",
    "# z = (p-p0) / √p0(1-p0)/n\n",
    "\n",
    "# where:\n",
    "\n",
    "# p: observed sample proportion\n",
    "# p0: hypothesized population proportion\n",
    "# n: sample size "
   ]
  },
  {
   "cell_type": "code",
   "execution_count": 62,
   "id": "bf34be79",
   "metadata": {},
   "outputs": [
    {
     "name": "stdout",
     "output_type": "stream",
     "text": [
      "\n",
      "\n",
      "SSI_proportion 0.7844\n",
      "z_stat: 129.94910, p_value: 0.00000\n",
      "\n",
      "\n",
      "Inferences are below: \n",
      "\n",
      "Reject the null hypothesis - suggest the alternative hypothesis is true. so we recommend these special incentives is not required for SSI\n"
     ]
    }
   ],
   "source": [
    "SSI_Count=Group20_data_new[Group20_data_new['UNIT_TYPE']==1]['UNIT_TYPE'].count()\n",
    "Total_Count=Group20_data_new['UNIT_TYPE'].count()\n",
    "\n",
    "SSI_proportion=SSI_Count/Total_Count\n",
    "\n",
    "print('\\n')\n",
    "print('SSI_proportion',SSI_proportion)\n",
    "\n",
    "sample_success = SSI_Count\n",
    "sample_size = Total_Count\n",
    "\n",
    "\n",
    "significance=0.05 #(Considering default as 0.05 as alpha is not given in question 6)\n",
    "\n",
    "null_hypothesis = 0.25\n",
    "\n",
    "stat, p_value = proportions_ztest(count=sample_success, nobs=sample_size, value=null_hypothesis, alternative='larger')\n",
    "\n",
    "# report\n",
    "print('z_stat: %0.5f, p_value: %0.5f' % (stat, p_value))\n",
    "\n",
    "print('\\n')\n",
    "print('Inferences are below: \\n')\n",
    "\n",
    "if p_value > significance:\n",
    "   print (\"Fail to reject the null hypothesis - so we would recommend these special incentives for SSSBE\")\n",
    "else:\n",
    "   print (\"Reject the null hypothesis - suggest the alternative hypothesis is true. so we recommend these special incentives is not required for SSI\")"
   ]
  },
  {
   "cell_type": "markdown",
   "id": "c0aa46f0",
   "metadata": {},
   "source": [
    "# Answer 7"
   ]
  },
  {
   "cell_type": "markdown",
   "id": "a56186f0",
   "metadata": {},
   "source": [
    "# Step 1 : Null Hypothesis & Alternate Hypothesis\n",
    "\n",
    "Ho: proportion of SSSBE_males <= proportion of SSSBE_female\n",
    "\n",
    "Ha: proportion of SSSBE_males > proportion of SSSBE_female\n",
    "\n",
    "# Step 2: alpha=0.05\n"
   ]
  },
  {
   "cell_type": "code",
   "execution_count": 63,
   "id": "e2d2d39d",
   "metadata": {},
   "outputs": [],
   "source": [
    "Group20_data_new['SSSBE_Male_Count']=np.logical_and(Group20_data_new['UNIT_TYPE']==2,Group20_data_new['MAN_BY']==1)\n",
    "\n",
    "Group20_data_new['SSSBE_Female_Count']=np.logical_and(Group20_data_new['UNIT_TYPE']==2,Group20_data_new['MAN_BY']==2)"
   ]
  },
  {
   "cell_type": "code",
   "execution_count": 64,
   "id": "9f2b4d3e",
   "metadata": {},
   "outputs": [
    {
     "name": "stdout",
     "output_type": "stream",
     "text": [
      "<class 'pandas.core.frame.DataFrame'>\n",
      "RangeIndex: 10000 entries, 0 to 9999\n",
      "Data columns (total 69 columns):\n",
      " #   Column              Non-Null Count  Dtype  \n",
      "---  ------              --------------  -----  \n",
      " 0   Index               10000 non-null  int64  \n",
      " 1   SL_NO               9999 non-null   float64\n",
      " 2   ST_CODE             10000 non-null  int64  \n",
      " 3   DIST_CODE           10000 non-null  int64  \n",
      " 4   TTM_CODE            7400 non-null   float64\n",
      " 5   SECTOR_CODE         10000 non-null  int64  \n",
      " 6   VT_CODE             8042 non-null   float64\n",
      " 7   WORKED_FOR_1D       10000 non-null  int64  \n",
      " 8   CLOSED_Y            10000 non-null  object \n",
      " 9   OPER_DUR_MM         10000 non-null  int64  \n",
      " 10  OPER_DUR_DD         3107 non-null   float64\n",
      " 11  SURVEY_CODE         10000 non-null  int64  \n",
      " 12  NIC_CODE            10000 non-null  int64  \n",
      " 13  PERM_REG_Y          9837 non-null   float64\n",
      " 14  FACTORY_ACT         10000 non-null  int64  \n",
      " 15  INIT_PROD_Y         9849 non-null   float64\n",
      " 16  UNIT_TYPE           10000 non-null  int64  \n",
      " 17  ANCI_UNIT           10000 non-null  int64  \n",
      " 18  ORG_TYPE            10000 non-null  int64  \n",
      " 19  WOMAN_ENT           10000 non-null  int64  \n",
      " 20  MKT_VAL_FA          10000 non-null  int64  \n",
      " 21  ORI_PURC_VAL_PM     10000 non-null  int64  \n",
      " 22  PM_INST_Y           9769 non-null   float64\n",
      " 23  EMP_TOTAL           10000 non-null  int64  \n",
      " 24  EMP_MALE            9941 non-null   float64\n",
      " 25  EMP_FEMALE          2795 non-null   float64\n",
      " 26  EMP_CHILD           60 non-null     float64\n",
      " 27  EMP_SC              3334 non-null   float64\n",
      " 28  EMP_ST              2112 non-null   float64\n",
      " 29  EMP_OBC             7179 non-null   float64\n",
      " 30  EMP_OTHER           6082 non-null   float64\n",
      " 31  POWER_SRC           10000 non-null  int64  \n",
      " 32  PROD1_CODE          9634 non-null   float64\n",
      " 33  PROD2_CODE          1027 non-null   float64\n",
      " 34  PROD3_CODE          281 non-null    float64\n",
      " 35  PROD4_CODE          115 non-null    float64\n",
      " 36  PROD5_CODE          10000 non-null  object \n",
      " 37  ACTI_NATURE         10000 non-null  int64  \n",
      " 38  OPER_NATURE         10000 non-null  int64  \n",
      " 39  MAN_BY              10000 non-null  int64  \n",
      " 40  MAN_CASTE           10000 non-null  int64  \n",
      " 41  REG_UNDER_SPR       10000 non-null  int64  \n",
      " 42  ACC_EXIST           10000 non-null  int64  \n",
      " 43  COMP_EXIST          10000 non-null  int64  \n",
      " 44  KNOW_HOW            10000 non-null  int64  \n",
      " 45  GOP_Year3           10000 non-null  int64  \n",
      " 46  GOP_Year2           9961 non-null   float64\n",
      " 47  GOP_Year1           9888 non-null   float64\n",
      " 48  VOE_Year3           10000 non-null  int64  \n",
      " 49  OS_LOAN_Year3       10000 non-null  int64  \n",
      " 50  OS_INST_SRC         2298 non-null   float64\n",
      " 51  OS_NONINST_SRC      2298 non-null   float64\n",
      " 52  NET_Year2           9961 non-null   float64\n",
      " 53  NET_Year3           10000 non-null  int64  \n",
      " 54  NET_STATUS_Year2    10000 non-null  int64  \n",
      " 55  REPAYMENT_DELAY     1398 non-null   float64\n",
      " 56  DECLINE_IN_GOP      10000 non-null  int64  \n",
      " 57  DMD_PROB            1621 non-null   float64\n",
      " 58  WORK_CAP_PROB       1621 non-null   float64\n",
      " 59  RAW_MTRL_PROB       1621 non-null   float64\n",
      " 60  POWER_RPOB          1621 non-null   float64\n",
      " 61  LABOUR_PROB         1621 non-null   float64\n",
      " 62  MKT_PROB            1621 non-null   float64\n",
      " 63  EQUIP_PROB          1621 non-null   float64\n",
      " 64  MGMT_PROB           1621 non-null   float64\n",
      " 65  GOP_diff_wrt_py     9961 non-null   float64\n",
      " 66  Perf_effi_per_emp   10000 non-null  float64\n",
      " 67  SSSBE_Male_Count    10000 non-null  bool   \n",
      " 68  SSSBE_Female_Count  10000 non-null  bool   \n",
      "dtypes: bool(2), float64(34), int64(31), object(2)\n",
      "memory usage: 5.1+ MB\n"
     ]
    }
   ],
   "source": [
    "Group20_data_new.info()"
   ]
  },
  {
   "cell_type": "code",
   "execution_count": 65,
   "id": "2f1f2a4d",
   "metadata": {},
   "outputs": [
    {
     "name": "stdout",
     "output_type": "stream",
     "text": [
      "SSSBE Men Count 2090\n",
      "SSSBE Female Count 66\n",
      "SSSBE Total Count 2156\n"
     ]
    }
   ],
   "source": [
    "SSSBE_Male_Count=Group20_data_new[Group20_data_new['SSSBE_Male_Count']==True]['SSSBE_Male_Count'].count()\n",
    "SSSBE_Female_Count=Group20_data_new[Group20_data_new['SSSBE_Female_Count']==True]['SSSBE_Female_Count'].count()\n",
    "\n",
    "SSSBE_Total_Count=Group20_data_new[Group20_data_new['UNIT_TYPE']==2]['UNIT_TYPE'].count()\n",
    "\n",
    "#SSSBE_Men_Count\n",
    "\n",
    "print('SSSBE Men Count',SSSBE_Male_Count)\n",
    "print('SSSBE Female Count',SSSBE_Female_Count)\n",
    "print('SSSBE Total Count',SSSBE_Total_Count)"
   ]
  },
  {
   "cell_type": "code",
   "execution_count": 66,
   "id": "a1d7c09d",
   "metadata": {},
   "outputs": [],
   "source": [
    "# Calculation proportion\n",
    "\n",
    "SSSBE_Male_proportion=SSSBE_Male_Count/SSSBE_Total_Count\n",
    "\n",
    "SSSBE_Female_proportion=SSSBE_Female_Count/SSSBE_Total_Count"
   ]
  },
  {
   "cell_type": "code",
   "execution_count": 67,
   "id": "b667363e",
   "metadata": {},
   "outputs": [
    {
     "name": "stdout",
     "output_type": "stream",
     "text": [
      "z_stat: 61.64546, p_value: 0.00000\n",
      "\n",
      "\n",
      "Inferences are below: \n",
      "\n",
      "Reject the null hypothesis - suggest that alternative hypothesis is true. SSSBE Male Proportion is greater than SSSBE Female Proportion\n"
     ]
    }
   ],
   "source": [
    "sample_success = np.array([2090,66])\n",
    "sample_size = np.array([2156,2156])\n",
    "\n",
    "significance=0.05 #(Considering default as 0.05 as alpha is not given in question 7)\n",
    "\n",
    "stat, p_value = proportions_ztest(count=sample_success, nobs=sample_size, alternative='larger')\n",
    "\n",
    "# report\n",
    "print('z_stat: %0.5f, p_value: %0.5f' % (stat, p_value))\n",
    "\n",
    "print('\\n')\n",
    "print('Inferences are below: \\n')\n",
    "\n",
    "if p_value > significance:\n",
    "   print (\"Fail to reject the null hypothesis - SSSBE Male Proportion is less than equal to SSSBE Female Proportion\")\n",
    "else:\n",
    "   print (\"Reject the null hypothesis - suggest that alternative hypothesis is true. SSSBE Male Proportion is greater than SSSBE Female Proportion\")"
   ]
  },
  {
   "cell_type": "code",
   "execution_count": 68,
   "id": "c15a1256",
   "metadata": {},
   "outputs": [
    {
     "name": "stdout",
     "output_type": "stream",
     "text": [
      "<class 'pandas.core.frame.DataFrame'>\n",
      "RangeIndex: 10000 entries, 0 to 9999\n",
      "Data columns (total 69 columns):\n",
      " #   Column              Non-Null Count  Dtype  \n",
      "---  ------              --------------  -----  \n",
      " 0   Index               10000 non-null  int64  \n",
      " 1   SL_NO               9999 non-null   float64\n",
      " 2   ST_CODE             10000 non-null  int64  \n",
      " 3   DIST_CODE           10000 non-null  int64  \n",
      " 4   TTM_CODE            7400 non-null   float64\n",
      " 5   SECTOR_CODE         10000 non-null  int64  \n",
      " 6   VT_CODE             8042 non-null   float64\n",
      " 7   WORKED_FOR_1D       10000 non-null  int64  \n",
      " 8   CLOSED_Y            10000 non-null  object \n",
      " 9   OPER_DUR_MM         10000 non-null  int64  \n",
      " 10  OPER_DUR_DD         3107 non-null   float64\n",
      " 11  SURVEY_CODE         10000 non-null  int64  \n",
      " 12  NIC_CODE            10000 non-null  int64  \n",
      " 13  PERM_REG_Y          9837 non-null   float64\n",
      " 14  FACTORY_ACT         10000 non-null  int64  \n",
      " 15  INIT_PROD_Y         9849 non-null   float64\n",
      " 16  UNIT_TYPE           10000 non-null  int64  \n",
      " 17  ANCI_UNIT           10000 non-null  int64  \n",
      " 18  ORG_TYPE            10000 non-null  int64  \n",
      " 19  WOMAN_ENT           10000 non-null  int64  \n",
      " 20  MKT_VAL_FA          10000 non-null  int64  \n",
      " 21  ORI_PURC_VAL_PM     10000 non-null  int64  \n",
      " 22  PM_INST_Y           9769 non-null   float64\n",
      " 23  EMP_TOTAL           10000 non-null  int64  \n",
      " 24  EMP_MALE            9941 non-null   float64\n",
      " 25  EMP_FEMALE          2795 non-null   float64\n",
      " 26  EMP_CHILD           60 non-null     float64\n",
      " 27  EMP_SC              3334 non-null   float64\n",
      " 28  EMP_ST              2112 non-null   float64\n",
      " 29  EMP_OBC             7179 non-null   float64\n",
      " 30  EMP_OTHER           6082 non-null   float64\n",
      " 31  POWER_SRC           10000 non-null  int64  \n",
      " 32  PROD1_CODE          9634 non-null   float64\n",
      " 33  PROD2_CODE          1027 non-null   float64\n",
      " 34  PROD3_CODE          281 non-null    float64\n",
      " 35  PROD4_CODE          115 non-null    float64\n",
      " 36  PROD5_CODE          10000 non-null  object \n",
      " 37  ACTI_NATURE         10000 non-null  int64  \n",
      " 38  OPER_NATURE         10000 non-null  int64  \n",
      " 39  MAN_BY              10000 non-null  int64  \n",
      " 40  MAN_CASTE           10000 non-null  int64  \n",
      " 41  REG_UNDER_SPR       10000 non-null  int64  \n",
      " 42  ACC_EXIST           10000 non-null  int64  \n",
      " 43  COMP_EXIST          10000 non-null  int64  \n",
      " 44  KNOW_HOW            10000 non-null  int64  \n",
      " 45  GOP_Year3           10000 non-null  int64  \n",
      " 46  GOP_Year2           9961 non-null   float64\n",
      " 47  GOP_Year1           9888 non-null   float64\n",
      " 48  VOE_Year3           10000 non-null  int64  \n",
      " 49  OS_LOAN_Year3       10000 non-null  int64  \n",
      " 50  OS_INST_SRC         2298 non-null   float64\n",
      " 51  OS_NONINST_SRC      2298 non-null   float64\n",
      " 52  NET_Year2           9961 non-null   float64\n",
      " 53  NET_Year3           10000 non-null  int64  \n",
      " 54  NET_STATUS_Year2    10000 non-null  int64  \n",
      " 55  REPAYMENT_DELAY     1398 non-null   float64\n",
      " 56  DECLINE_IN_GOP      10000 non-null  int64  \n",
      " 57  DMD_PROB            1621 non-null   float64\n",
      " 58  WORK_CAP_PROB       1621 non-null   float64\n",
      " 59  RAW_MTRL_PROB       1621 non-null   float64\n",
      " 60  POWER_RPOB          1621 non-null   float64\n",
      " 61  LABOUR_PROB         1621 non-null   float64\n",
      " 62  MKT_PROB            1621 non-null   float64\n",
      " 63  EQUIP_PROB          1621 non-null   float64\n",
      " 64  MGMT_PROB           1621 non-null   float64\n",
      " 65  GOP_diff_wrt_py     9961 non-null   float64\n",
      " 66  Perf_effi_per_emp   10000 non-null  float64\n",
      " 67  SSSBE_Male_Count    10000 non-null  bool   \n",
      " 68  SSSBE_Female_Count  10000 non-null  bool   \n",
      "dtypes: bool(2), float64(34), int64(31), object(2)\n",
      "memory usage: 5.1+ MB\n"
     ]
    }
   ],
   "source": [
    "#Original Dataset\n",
    "\n",
    "Group20_data_new.info()"
   ]
  },
  {
   "cell_type": "markdown",
   "id": "302af27e",
   "metadata": {},
   "source": [
    "# Answer 8"
   ]
  },
  {
   "cell_type": "markdown",
   "id": "fa0dbba6",
   "metadata": {},
   "source": [
    "# Performance measure : GOP_diff_wrt_py"
   ]
  },
  {
   "cell_type": "markdown",
   "id": "0d524cf8",
   "metadata": {},
   "source": [
    "Step 1:\n",
    "\n",
    "Ho: mew(SSSBE)-mew(SSI)=0 (population mean of performance of SSSBE =  population mean of performance of SSI)\n",
    "\n",
    "Ha: mew(SSSBE)-mew(SSI)!=0 (population mean of performance of SSSBE !=  population mean of performance of SSI)\n",
    "\n",
    "Step 2: alpha = 0.05"
   ]
  },
  {
   "cell_type": "code",
   "execution_count": 69,
   "id": "95c9836f",
   "metadata": {},
   "outputs": [],
   "source": [
    "from scipy.stats import norm, ttest_ind"
   ]
  },
  {
   "cell_type": "code",
   "execution_count": 70,
   "id": "58f1b039",
   "metadata": {},
   "outputs": [
    {
     "data": {
      "text/html": [
       "<div>\n",
       "<style scoped>\n",
       "    .dataframe tbody tr th:only-of-type {\n",
       "        vertical-align: middle;\n",
       "    }\n",
       "\n",
       "    .dataframe tbody tr th {\n",
       "        vertical-align: top;\n",
       "    }\n",
       "\n",
       "    .dataframe thead th {\n",
       "        text-align: right;\n",
       "    }\n",
       "</style>\n",
       "<table border=\"1\" class=\"dataframe\">\n",
       "  <thead>\n",
       "    <tr style=\"text-align: right;\">\n",
       "      <th></th>\n",
       "      <th>Index</th>\n",
       "      <th>SL_NO</th>\n",
       "      <th>ST_CODE</th>\n",
       "      <th>DIST_CODE</th>\n",
       "      <th>TTM_CODE</th>\n",
       "      <th>SECTOR_CODE</th>\n",
       "      <th>VT_CODE</th>\n",
       "      <th>WORKED_FOR_1D</th>\n",
       "      <th>CLOSED_Y</th>\n",
       "      <th>OPER_DUR_MM</th>\n",
       "      <th>...</th>\n",
       "      <th>EQUIP_PROB</th>\n",
       "      <th>MGMT_PROB</th>\n",
       "      <th>GOP_diff_wrt_py</th>\n",
       "      <th>Perf_effi_per_emp</th>\n",
       "      <th>Avg_Perf</th>\n",
       "      <th>Good_Unit</th>\n",
       "      <th>Bad_Unit</th>\n",
       "      <th>SSSBE_Unit_Count</th>\n",
       "      <th>SSSBE_Unit_GOOD_Perf</th>\n",
       "      <th>SSSBE_Unit_BAD_Perf</th>\n",
       "    </tr>\n",
       "  </thead>\n",
       "  <tbody>\n",
       "    <tr>\n",
       "      <th>0</th>\n",
       "      <td>26222</td>\n",
       "      <td>100937.0</td>\n",
       "      <td>28</td>\n",
       "      <td>12</td>\n",
       "      <td>14.0</td>\n",
       "      <td>1</td>\n",
       "      <td>13549.0</td>\n",
       "      <td>1</td>\n",
       "      <td></td>\n",
       "      <td>12</td>\n",
       "      <td>...</td>\n",
       "      <td>NaN</td>\n",
       "      <td>NaN</td>\n",
       "      <td>0.0</td>\n",
       "      <td>19000.000000</td>\n",
       "      <td>29692.972483</td>\n",
       "      <td>0</td>\n",
       "      <td>1</td>\n",
       "      <td>1</td>\n",
       "      <td>False</td>\n",
       "      <td>True</td>\n",
       "    </tr>\n",
       "    <tr>\n",
       "      <th>2</th>\n",
       "      <td>16430</td>\n",
       "      <td>88319.0</td>\n",
       "      <td>28</td>\n",
       "      <td>6</td>\n",
       "      <td>NaN</td>\n",
       "      <td>2</td>\n",
       "      <td>406030.0</td>\n",
       "      <td>1</td>\n",
       "      <td></td>\n",
       "      <td>8</td>\n",
       "      <td>...</td>\n",
       "      <td>2.0</td>\n",
       "      <td>2.0</td>\n",
       "      <td>-31000.0</td>\n",
       "      <td>45333.333333</td>\n",
       "      <td>29692.972483</td>\n",
       "      <td>1</td>\n",
       "      <td>0</td>\n",
       "      <td>0</td>\n",
       "      <td>False</td>\n",
       "      <td>False</td>\n",
       "    </tr>\n",
       "    <tr>\n",
       "      <th>6</th>\n",
       "      <td>55225</td>\n",
       "      <td>72257.0</td>\n",
       "      <td>28</td>\n",
       "      <td>11</td>\n",
       "      <td>1.0</td>\n",
       "      <td>1</td>\n",
       "      <td>10932.0</td>\n",
       "      <td>1</td>\n",
       "      <td></td>\n",
       "      <td>12</td>\n",
       "      <td>...</td>\n",
       "      <td>NaN</td>\n",
       "      <td>NaN</td>\n",
       "      <td>10000.0</td>\n",
       "      <td>50000.000000</td>\n",
       "      <td>29692.972483</td>\n",
       "      <td>1</td>\n",
       "      <td>0</td>\n",
       "      <td>0</td>\n",
       "      <td>False</td>\n",
       "      <td>False</td>\n",
       "    </tr>\n",
       "    <tr>\n",
       "      <th>8</th>\n",
       "      <td>35754</td>\n",
       "      <td>37821.0</td>\n",
       "      <td>28</td>\n",
       "      <td>10</td>\n",
       "      <td>33.0</td>\n",
       "      <td>2</td>\n",
       "      <td>10640.0</td>\n",
       "      <td>1</td>\n",
       "      <td></td>\n",
       "      <td>12</td>\n",
       "      <td>...</td>\n",
       "      <td>NaN</td>\n",
       "      <td>NaN</td>\n",
       "      <td>15000.0</td>\n",
       "      <td>22500.000000</td>\n",
       "      <td>29692.972483</td>\n",
       "      <td>0</td>\n",
       "      <td>1</td>\n",
       "      <td>0</td>\n",
       "      <td>False</td>\n",
       "      <td>False</td>\n",
       "    </tr>\n",
       "    <tr>\n",
       "      <th>10</th>\n",
       "      <td>19168</td>\n",
       "      <td>41934.0</td>\n",
       "      <td>28</td>\n",
       "      <td>16</td>\n",
       "      <td>21.0</td>\n",
       "      <td>2</td>\n",
       "      <td>416030.0</td>\n",
       "      <td>1</td>\n",
       "      <td></td>\n",
       "      <td>10</td>\n",
       "      <td>...</td>\n",
       "      <td>NaN</td>\n",
       "      <td>NaN</td>\n",
       "      <td>41200.0</td>\n",
       "      <td>79200.000000</td>\n",
       "      <td>29692.972483</td>\n",
       "      <td>1</td>\n",
       "      <td>0</td>\n",
       "      <td>0</td>\n",
       "      <td>False</td>\n",
       "      <td>False</td>\n",
       "    </tr>\n",
       "  </tbody>\n",
       "</table>\n",
       "<p>5 rows × 73 columns</p>\n",
       "</div>"
      ],
      "text/plain": [
       "    Index     SL_NO  ST_CODE  DIST_CODE  TTM_CODE  SECTOR_CODE   VT_CODE  \\\n",
       "0   26222  100937.0       28         12      14.0            1   13549.0   \n",
       "2   16430   88319.0       28          6       NaN            2  406030.0   \n",
       "6   55225   72257.0       28         11       1.0            1   10932.0   \n",
       "8   35754   37821.0       28         10      33.0            2   10640.0   \n",
       "10  19168   41934.0       28         16      21.0            2  416030.0   \n",
       "\n",
       "    WORKED_FOR_1D CLOSED_Y  OPER_DUR_MM  ...  EQUIP_PROB  MGMT_PROB  \\\n",
       "0               1                    12  ...         NaN        NaN   \n",
       "2               1                     8  ...         2.0        2.0   \n",
       "6               1                    12  ...         NaN        NaN   \n",
       "8               1                    12  ...         NaN        NaN   \n",
       "10              1                    10  ...         NaN        NaN   \n",
       "\n",
       "    GOP_diff_wrt_py  Perf_effi_per_emp      Avg_Perf  Good_Unit  Bad_Unit  \\\n",
       "0               0.0       19000.000000  29692.972483          0         1   \n",
       "2          -31000.0       45333.333333  29692.972483          1         0   \n",
       "6           10000.0       50000.000000  29692.972483          1         0   \n",
       "8           15000.0       22500.000000  29692.972483          0         1   \n",
       "10          41200.0       79200.000000  29692.972483          1         0   \n",
       "\n",
       "    SSSBE_Unit_Count  SSSBE_Unit_GOOD_Perf  SSSBE_Unit_BAD_Perf  \n",
       "0                  1                 False                 True  \n",
       "2                  0                 False                False  \n",
       "6                  0                 False                False  \n",
       "8                  0                 False                False  \n",
       "10                 0                 False                False  \n",
       "\n",
       "[5 rows x 73 columns]"
      ]
     },
     "execution_count": 70,
     "metadata": {},
     "output_type": "execute_result"
    }
   ],
   "source": [
    "Group20_data.head()"
   ]
  },
  {
   "cell_type": "code",
   "execution_count": 71,
   "id": "d7145ccd",
   "metadata": {},
   "outputs": [],
   "source": [
    "# Remove column name 'A'\n",
    "\n",
    "#Group20_data.drop(['SSI_Unit_GOOD_Perf'], axis=1,inplace=True)\n",
    "#Group20_data.drop(['SSI_Unit_BAD_Perf'], axis=1,inplace=True)"
   ]
  },
  {
   "cell_type": "markdown",
   "id": "dcb23b9b",
   "metadata": {},
   "source": [
    "# Two tail test to determine whether there is a Diff in the Population mean of Performance of SSSBE & SSI"
   ]
  },
  {
   "cell_type": "code",
   "execution_count": 72,
   "id": "abd9acdf",
   "metadata": {},
   "outputs": [
    {
     "name": "stdout",
     "output_type": "stream",
     "text": [
      "Test Statistics: nan\n",
      "p-value: nan\n"
     ]
    }
   ],
   "source": [
    "significance=0.05\n",
    "\n",
    "Group20_data['SSSBE_GOP_diff_wrt_py']=np.where(Group20_data['UNIT_TYPE']==2,Group20_data['GOP_diff_wrt_py'],0)\n",
    "\n",
    "Samp1=Group20_data['SSSBE_GOP_diff_wrt_py']\n",
    "\n",
    "Group20_data['SSI_GOP_diff_wrt_py']=np.where(Group20_data['UNIT_TYPE']==1,Group20_data['GOP_diff_wrt_py'],0)\n",
    "\n",
    "Samp2=Group20_data['SSI_GOP_diff_wrt_py']\n",
    "\n",
    "tstats,p_value=ttest_ind(Samp1,Samp2,alternative='two-sided')\n",
    "\n",
    "print('Test Statistics:',tstats)\n",
    "print('p-value:',p_value)"
   ]
  },
  {
   "cell_type": "code",
   "execution_count": 73,
   "id": "ece45b7f",
   "metadata": {},
   "outputs": [
    {
     "name": "stdout",
     "output_type": "stream",
     "text": [
      "Reject the null hypothesis - suggest that alternative hypothesis is true.SSSBE Units Performace is not eauql to the SSI Units Performance\n"
     ]
    }
   ],
   "source": [
    "# Inference:\n",
    "\n",
    "if p_value > significance:\n",
    "   print (\"Fail to reject the null hypothesis - SSSBE Units Performace is same as SSI Units Performance\")\n",
    "else:\n",
    "   print (\"Reject the null hypothesis - suggest that alternative hypothesis is true.SSSBE Units Performace is not eauql to the SSI Units Performance\")"
   ]
  },
  {
   "cell_type": "markdown",
   "id": "9401a273",
   "metadata": {},
   "source": [
    "# Left Tail Test"
   ]
  },
  {
   "cell_type": "markdown",
   "id": "b8856e4a",
   "metadata": {},
   "source": [
    "Step 1: Null & Alternate Hypothesis\n",
    "\n",
    "Ho: mew(SSSBE)-mew(SSI)>=0 (population mean of performance of SSSBE>=population mean of performance of SSI)\n",
    "\n",
    "Ha: mew(SSSBE)-mew(SSI)<0 (population mean of performance of SSSBE<population mean of performance of SSI)"
   ]
  },
  {
   "cell_type": "code",
   "execution_count": 74,
   "id": "4b79d1fa",
   "metadata": {},
   "outputs": [
    {
     "name": "stdout",
     "output_type": "stream",
     "text": [
      "Test Statistics: nan\n",
      "p-value: nan\n"
     ]
    }
   ],
   "source": [
    "significance=0.05\n",
    "\n",
    "tstats,pvalue=ttest_ind(Samp1,Samp2,alternative='less')\n",
    "print('Test Statistics:',tstats)\n",
    "print('p-value:',pvalue)"
   ]
  },
  {
   "cell_type": "code",
   "execution_count": 75,
   "id": "5915f476",
   "metadata": {},
   "outputs": [
    {
     "name": "stdout",
     "output_type": "stream",
     "text": [
      "Reject the null hypothesis - suggest that alternative hypothesis is true.SSSBE Units Performace is less than that of SSI Units\n"
     ]
    }
   ],
   "source": [
    "# Inference:\n",
    "\n",
    "if pvalue > significance:\n",
    "   print (\"Fail to reject the null hypothesis - SSSBE Units Performace is greater than performance of SSI Units\")\n",
    "else:\n",
    "   print (\"Reject the null hypothesis - suggest that alternative hypothesis is true.SSSBE Units Performace is less than that of SSI Units\")"
   ]
  },
  {
   "cell_type": "markdown",
   "id": "db38b436",
   "metadata": {},
   "source": [
    "# Right Tail Test"
   ]
  },
  {
   "cell_type": "markdown",
   "id": "18c7703b",
   "metadata": {},
   "source": [
    "Step 1: Null & Alternate Hypothesis\n",
    "\n",
    "Ho: mew(SSSBE)-mew(SSI)<=0 (population mean of performance of SSSBE<=population mean of performance of SSI)\n",
    "\n",
    "Ha: mew(SSSBE)-mew(SSI)>0 (population mean of performance of SSSBE>population mean of performance of SSI)"
   ]
  },
  {
   "cell_type": "code",
   "execution_count": 76,
   "id": "077364a8",
   "metadata": {},
   "outputs": [
    {
     "name": "stdout",
     "output_type": "stream",
     "text": [
      "Test Statistics: nan\n",
      "p-value: nan\n"
     ]
    }
   ],
   "source": [
    "significance=0.05\n",
    "\n",
    "tstats1,pvalue1=ttest_ind(Samp1,Samp2,alternative='greater')\n",
    "print('Test Statistics:',tstats1)\n",
    "print('p-value:',pvalue1)"
   ]
  },
  {
   "cell_type": "code",
   "execution_count": 77,
   "id": "ec266e7e",
   "metadata": {},
   "outputs": [
    {
     "name": "stdout",
     "output_type": "stream",
     "text": [
      "Reject the null hypothesis - suggest that alternative hypothesis is true.SSSBE Units Performace is greater than that of SSI Units\n"
     ]
    }
   ],
   "source": [
    "# Inference:\n",
    "if pvalue1 > significance:\n",
    "   print (\"Fail to reject the null hypothesis - SSSBE Units Performace is Less than that of SSI Units\")\n",
    "else:\n",
    "   print (\"Reject the null hypothesis - suggest that alternative hypothesis is true.SSSBE Units Performace is greater than that of SSI Units\")\n"
   ]
  },
  {
   "cell_type": "markdown",
   "id": "90bea3a7",
   "metadata": {},
   "source": [
    "# Performance measure : Perf_effi_per_emp"
   ]
  },
  {
   "cell_type": "markdown",
   "id": "09c0d187",
   "metadata": {},
   "source": [
    "Step 1:\n",
    "\n",
    "Ho: mew(SSSBE)-mew(SSI)=0 (population mean of performance of SSSBE =  population mean of performance of SSI)\n",
    "\n",
    "Ha: mew(SSSBE)-mew(SSI)!=0 (population mean of performance of SSSBE !=  population mean of performance of SSI)\n",
    "\n",
    "Step 2: alpha = 0.05"
   ]
  },
  {
   "cell_type": "markdown",
   "id": "65765235",
   "metadata": {},
   "source": [
    "# Two tail test to determine whether there is a Diff in the Population mean of Performance of SSSBE & SSI"
   ]
  },
  {
   "cell_type": "code",
   "execution_count": 78,
   "id": "2fd4ffae",
   "metadata": {},
   "outputs": [
    {
     "name": "stdout",
     "output_type": "stream",
     "text": [
      "Test Statistics: -50.19229202969718\n",
      "p-value: 0.0\n",
      "Reject the null hypothesis - suggest that alternative hypothesis is true.SSSBE Units Performace is not eauql to the SSI Units Performance\n"
     ]
    }
   ],
   "source": [
    "significance=0.05\n",
    "\n",
    "Group20_data['SSSBE_Perf_effi_per_emp']=np.where(Group20_data['UNIT_TYPE']==2,Group20_data['Perf_effi_per_emp'],0)\n",
    "\n",
    "Samp3=Group20_data['SSSBE_Perf_effi_per_emp']\n",
    "\n",
    "Group20_data['SSI_Perf_effi_per_emp']=np.where(Group20_data['UNIT_TYPE']==1,Group20_data['Perf_effi_per_emp'],0)\n",
    "\n",
    "Samp4=Group20_data['SSI_Perf_effi_per_emp']\n",
    "\n",
    "tstats,p_value1=ttest_ind(Samp3,Samp4,alternative='two-sided')\n",
    "\n",
    "print('Test Statistics:',tstats)\n",
    "print('p-value:',p_value1)\n",
    "\n",
    "# Inference:\n",
    "\n",
    "if p_value1 > significance:\n",
    "   print (\"Fail to reject the null hypothesis - SSSBE Units Performace is same as SSI Units Performance\")\n",
    "else:\n",
    "   print (\"Reject the null hypothesis - suggest that alternative hypothesis is true.SSSBE Units Performace is not eauql to the SSI Units Performance\")"
   ]
  },
  {
   "cell_type": "markdown",
   "id": "490c4414",
   "metadata": {},
   "source": [
    "# Left Tail Test"
   ]
  },
  {
   "cell_type": "markdown",
   "id": "1ca25bcc",
   "metadata": {},
   "source": [
    "Step 1: Null & Alternate Hypothesis\n",
    "\n",
    "Ho: mew(SSSBE)-mew(SSI)>=0 (population mean of performance of SSSBE>=population mean of performance of SSI)\n",
    "\n",
    "Ha: mew(SSSBE)-mew(SSI)<0 (population mean of performance of SSSBE<population mean of performance of SSI)"
   ]
  },
  {
   "cell_type": "code",
   "execution_count": 79,
   "id": "4397a021",
   "metadata": {},
   "outputs": [
    {
     "name": "stdout",
     "output_type": "stream",
     "text": [
      "Test Statistics: -50.19229202969718\n",
      "p-value: 0.0\n",
      "Reject the null hypothesis - suggest that alternative hypothesis is true.SSSBE Units Performace is less than that of SSI Units\n"
     ]
    }
   ],
   "source": [
    "significance=0.05\n",
    "\n",
    "tstats,pvalue2=ttest_ind(Samp3,Samp4,alternative='less')\n",
    "print('Test Statistics:',tstats)\n",
    "print('p-value:',pvalue2)\n",
    "\n",
    "# Inference:\n",
    "\n",
    "if pvalue2 > significance:\n",
    "   print (\"Fail to reject the null hypothesis - SSSBE Units Performace is greater than performance of SSI Units\")\n",
    "else:\n",
    "   print (\"Reject the null hypothesis - suggest that alternative hypothesis is true.SSSBE Units Performace is less than that of SSI Units\")"
   ]
  },
  {
   "cell_type": "markdown",
   "id": "1621d27b",
   "metadata": {},
   "source": [
    "# Right Tail Test"
   ]
  },
  {
   "cell_type": "markdown",
   "id": "dc20ebea",
   "metadata": {},
   "source": [
    "Step 1: Null & Alternate Hypothesis\n",
    "\n",
    "Ho: mew(SSSBE)-mew(SSI)<=0 (population mean of performance of SSSBE<=population mean of performance of SSI)\n",
    "\n",
    "Ha: mew(SSSBE)-mew(SSI)>0 (population mean of performance of SSSBE>population mean of performance of SSI)"
   ]
  },
  {
   "cell_type": "code",
   "execution_count": 80,
   "id": "b714931f",
   "metadata": {},
   "outputs": [
    {
     "name": "stdout",
     "output_type": "stream",
     "text": [
      "Test Statistics: -50.19229202969718\n",
      "p-value: 1.0\n",
      "Fail to reject the null hypothesis - SSSBE Units Performace is Less than that of SSI Units\n"
     ]
    }
   ],
   "source": [
    "significance=0.05\n",
    "\n",
    "tstats1,pvalue3=ttest_ind(Samp3,Samp4,alternative='greater')\n",
    "print('Test Statistics:',tstats1)\n",
    "print('p-value:',pvalue3)\n",
    "\n",
    "# Inference:\n",
    "if pvalue3 > significance:\n",
    "   print (\"Fail to reject the null hypothesis - SSSBE Units Performace is Less than that of SSI Units\")\n",
    "else:\n",
    "   print (\"Reject the null hypothesis - suggest that alternative hypothesis is true.SSSBE Units Performace is greater than that of SSI Units\")\n"
   ]
  },
  {
   "cell_type": "markdown",
   "id": "fe2cc78f",
   "metadata": {},
   "source": [
    "# Final Comments:\n",
    "\n",
    "### As per two-sided Hypothesis test conducted on 2 defined Performance measures i.e GOP_diff_wrt_py & SSSBE_Perf_effi_per_emp , it is clear that the SSSBE Units performance is not equal to performance of SSI. \n",
    "\n",
    "### From Left Tail & Right Tail test , it is also clear that the SSSBE Units performance is less than that of SSI Units. So SSI Units performance is better than SSSBE Units."
   ]
  },
  {
   "cell_type": "markdown",
   "id": "e0e32916",
   "metadata": {},
   "source": [
    "# Answer 9"
   ]
  },
  {
   "cell_type": "markdown",
   "id": "2df6e792",
   "metadata": {},
   "source": [
    "Part a\n",
    "\n",
    "Ho: p1(Proportion of better performing units in SSSBE)=p2(Proportion of better performing units in SSI) (There is no diff in proportion of Better performing units in SSSBE & SSI)\n",
    "\n",
    "Ha: p1(Proportion of better performing units in SSSBE)!=p2(Proportion of better performing units in SSI)!=0 (There is diff in proportion of Better performing units in SSSBE & SSI)"
   ]
  },
  {
   "cell_type": "markdown",
   "id": "eed8c229",
   "metadata": {},
   "source": [
    "# First Measure : GOP_diff_wrt_py"
   ]
  },
  {
   "cell_type": "code",
   "execution_count": 81,
   "id": "7cf6e01b",
   "metadata": {},
   "outputs": [
    {
     "data": {
      "text/plain": [
       "(7158, 77)"
      ]
     },
     "execution_count": 81,
     "metadata": {},
     "output_type": "execute_result"
    }
   ],
   "source": [
    "Group20_data.shape"
   ]
  },
  {
   "cell_type": "code",
   "execution_count": 82,
   "id": "132570e3",
   "metadata": {},
   "outputs": [
    {
     "name": "stdout",
     "output_type": "stream",
     "text": [
      "The proportion of better performing SSSBE units:  0.4499723604201216\n",
      "The proportion of better performing SSI units:  0.42521756729407\n",
      "p-value 0.06897327848708337\n",
      "Fail to reject the null hypothesis - Proportion of Better Performing Units in SSSBE is equal to Proportion of Better Performing Units in SSI\n"
     ]
    }
   ],
   "source": [
    "# Using pooled proportion test\n",
    "# Inorder to understand if there is difference in the proportion of better performing units in the SSI and SSBE units, \n",
    "# we are using hypothesis tests of proportions.\n",
    "# We have considered the performance metrics : 1. Gross Output year on year growth/decline (GOP_diff_wrt_py) \n",
    "\n",
    "# Null Hypothesis= Proportion of better performing units in SSSBE (p1)= Proportion of better performing  units in SSI (p2)\n",
    "# NUll Hypothesis Ho: p1 = p2\n",
    "\n",
    "# Alternate Hypothesis= Proportion of better performing units in SSSBE <> Proportion of better performing  units in SSI\n",
    "# Alternate Hypothesis : p1 != p2\n",
    "\n",
    "Group20_data['GOP_diff_wrt_py_SSSBE']=np.where(Group20_data['UNIT_TYPE']==2,Group20_data['GOP_diff_wrt_py'],0)\n",
    "Group20_data['GOP_diff_wrt_py_SSI']=np.where(Group20_data['UNIT_TYPE']==1,Group20_data['GOP_diff_wrt_py'],0)\n",
    "\n",
    "AVG_GOP_diff_wrt_SSSBE = Group20_data[Group20_data['GOP_diff_wrt_py_SSSBE']!=0]['GOP_diff_wrt_py_SSSBE'].mean()\n",
    "AVG_GOP_diff_wrt_SSI = Group20_data[Group20_data['GOP_diff_wrt_py_SSI']!=0]['GOP_diff_wrt_py_SSI'].mean()\n",
    "\n",
    "GOP_diff_wrt_SSSBE_Good_cnt = Group20_data[Group20_data['GOP_diff_wrt_py_SSSBE']>AVG_GOP_diff_wrt_SSSBE]['GOP_diff_wrt_py_SSSBE'].count()\n",
    "\n",
    "GOP_diff_wrt_SSI_Good_cnt = Group20_data[Group20_data['GOP_diff_wrt_py_SSI']>AVG_GOP_diff_wrt_SSI]['GOP_diff_wrt_py_SSI'].count()\n",
    "\n",
    "GOP_diff_wrt_SSI_Good_cnt = GOP_diff_wrt_SSI_Good_cnt/Group20_data[Group20_data['GOP_diff_wrt_py_SSI'] != 0 ]['GOP_diff_wrt_py_SSI'].count()\n",
    "GOP_diff_wrt_SSSBE_Good_cnt = GOP_diff_wrt_SSSBE_Good_cnt/Group20_data[Group20_data['GOP_diff_wrt_py_SSSBE'] != 0 ]['GOP_diff_wrt_py_SSSBE'].count()\n",
    "\n",
    "print (f'The proportion of better performing SSSBE units: ',GOP_diff_wrt_SSSBE_Good_cnt)\n",
    "print (f'The proportion of better performing SSI units: ',GOP_diff_wrt_SSI_Good_cnt)\n",
    "\n",
    "\n",
    "n1 = Group20_data[Group20_data['GOP_diff_wrt_py_SSSBE'] != 0 ]['GOP_diff_wrt_py_SSSBE'].count()\n",
    "n2 = Group20_data[Group20_data['GOP_diff_wrt_py_SSI'] != 0 ]['GOP_diff_wrt_py_SSI'].count()\n",
    "p1 = GOP_diff_wrt_SSSBE_Good_cnt\n",
    "p2 = GOP_diff_wrt_SSI_Good_cnt\n",
    "\n",
    "pooled_p = (p1*n1 + p2*n2) / (n1+n2)\n",
    "\n",
    "StandardError = np.sqrt(pooled_p* (1-pooled_p)*(1/n1+1/n2))\n",
    "StandardError\n",
    "\n",
    "# Test Statistics\n",
    "test_stat = (p1-p2)/StandardError\n",
    "test_stat\n",
    "\n",
    "pValue = stats.norm.sf(abs (test_stat))*2\n",
    "print('p-value',pValue)\n",
    "\n",
    "\n",
    "#Significance level\n",
    "alpha = 0.05\n",
    "#Print the results\n",
    "if pValue > alpha:\n",
    "    print(\"Fail to reject the null hypothesis - Proportion of Better Performing Units in SSSBE is equal to Proportion of Better Performing Units in SSI\")\n",
    "else:\n",
    "    print (\"Reject the null hypothesis - suggest that alternative hypothesis is true.Proportion of Better Performing Units in SSSBE is not equal to Proportion of Better Performing Units in SSI\")"
   ]
  },
  {
   "cell_type": "markdown",
   "id": "208b9f7a",
   "metadata": {},
   "source": [
    "# Second Measure : Perf_effi_per_emp"
   ]
  },
  {
   "cell_type": "code",
   "execution_count": 83,
   "id": "2b756c3e",
   "metadata": {},
   "outputs": [
    {
     "name": "stdout",
     "output_type": "stream",
     "text": [
      "The proportion of better performing SSSBE units:  0.8927282104177411\n",
      "The proportion of better performing SSI units:  0.58055822906641\n",
      " 2.0090415776252608e-136\n",
      "Fail to reject the null hypothesis - Proportion of Better Performing Units in SSSBE is equal to Proportion of Better Performing Units in SSI\n"
     ]
    }
   ],
   "source": [
    "# Using pooled proportion test\n",
    "\n",
    "# Inorder to understand if there is difference in the proportion of better performing units in the SSI and SSBE units, \n",
    "# we are using hypothesis tests of proportions.\n",
    "# We have considered the performance metrics : 2. Performance efficiency per employee (Perf_effi_per_emp) \n",
    "\n",
    "# Null Hypothesis= Proportion of better performing units in SSSBE (p1)= Proportion of better performing  units in SSI (p2)\n",
    "# NUll Hypothesis Ho: p1 = p2\n",
    "\n",
    "# Alternate Hypothesis= Proportion of better performing units in SSSBE <> Proportion of better performing  units in SSI\n",
    "# Alternate Hypothesis : p1 != p2\n",
    "\n",
    "Group20_data['Perf_effi_per_emp_SSSBE']=np.where(Group20_data['UNIT_TYPE']==2,Group20_data['Perf_effi_per_emp'],0)\n",
    "Group20_data['Perf_effi_per_emp_SSI']=np.where(Group20_data['UNIT_TYPE']==1,Group20_data['Perf_effi_per_emp'],0)\n",
    "\n",
    "AVg_Perf_effi_per_emp_SSSBE = Group20_data['Perf_effi_per_emp_SSSBE'].mean()\n",
    "AVg_Perf_effi_per_emp_SSI = Group20_data['Perf_effi_per_emp_SSI'].mean()\n",
    "\n",
    "Perf_effi_per_emp_SSSBE_Good_cnt = Group20_data[Group20_data['Perf_effi_per_emp_SSSBE']>AVg_Perf_effi_per_emp_SSSBE]['Perf_effi_per_emp_SSSBE'].count()\n",
    "Perf_effi_per_emp_SSI_Good_cnt = Group20_data[Group20_data['Perf_effi_per_emp_SSI']>AVg_Perf_effi_per_emp_SSI]['Perf_effi_per_emp_SSI'].count()\n",
    "\n",
    "prop_Perf_effi_per_emp_SSI_Good_cnt = Perf_effi_per_emp_SSI_Good_cnt/Group20_data[Group20_data['Perf_effi_per_emp_SSI'] != 0 ]['Perf_effi_per_emp_SSI'].count()\n",
    "prop_Perf_effi_per_emp_SSSBE_Good_cnt = Perf_effi_per_emp_SSSBE_Good_cnt/Group20_data[Group20_data['Perf_effi_per_emp_SSSBE'] != 0 ]['Perf_effi_per_emp_SSSBE'].count()\n",
    "\n",
    "print (f'The proportion of better performing SSSBE units: ',prop_Perf_effi_per_emp_SSSBE_Good_cnt)\n",
    "print (f'The proportion of better performing SSI units: ',prop_Perf_effi_per_emp_SSI_Good_cnt)\n",
    "\n",
    "\n",
    "n1 = Group20_data[Group20_data['Perf_effi_per_emp_SSSBE'] != 0 ]['Perf_effi_per_emp_SSSBE'].count()\n",
    "n2 = Group20_data[Group20_data['Perf_effi_per_emp_SSI'] != 0 ]['Perf_effi_per_emp_SSI'].count()\n",
    "p1 = prop_Perf_effi_per_emp_SSSBE_Good_cnt\n",
    "p2 = prop_Perf_effi_per_emp_SSI_Good_cnt\n",
    "\n",
    "pooled_p = (p1*n1 + p2*n2) / (n1+n2)\n",
    "\n",
    "StandardError = np.sqrt(pooled_p* (1-pooled_p)*(1/n1+1/n2))\n",
    "StandardError\n",
    "\n",
    "# Test Statistics\n",
    "test_stat = (p1-p2)/StandardError\n",
    "test_stat\n",
    "\n",
    "pValue1 = stats.norm.sf(abs (test_stat))*2\n",
    "print('',pValue1)\n",
    "\n",
    "\n",
    "#Significance level\n",
    "alpha = 0.05\n",
    "#Print the results\n",
    "if pValue > alpha:\n",
    "    print(\"Fail to reject the null hypothesis - Proportion of Better Performing Units in SSSBE is equal to Proportion of Better Performing Units in SSI\")\n",
    "else:\n",
    "    print (\"Reject the null hypothesis - suggest that alternative hypothesis is true.Proportion of Better Performing Units in SSSBE is not equal to Proportion of Better Performing Units in SSI\")"
   ]
  },
  {
   "cell_type": "markdown",
   "id": "9a110f31",
   "metadata": {},
   "source": [
    "# Answer 10"
   ]
  },
  {
   "cell_type": "markdown",
   "id": "c1d3a89a",
   "metadata": {},
   "source": [
    "# Comment on the distribution for the Measures Created"
   ]
  },
  {
   "cell_type": "markdown",
   "id": "267f4c85",
   "metadata": {},
   "source": [
    "# First Measures : GOP_diff_wrt_py"
   ]
  },
  {
   "cell_type": "code",
   "execution_count": 84,
   "id": "be0dd241",
   "metadata": {},
   "outputs": [
    {
     "data": {
      "text/plain": [
       "count     7158.000000\n",
       "mean      6168.743504\n",
       "std      15317.203208\n",
       "min     -40000.000000\n",
       "25%          0.000000\n",
       "50%       4000.000000\n",
       "75%      10000.000000\n",
       "max      63986.000000\n",
       "Name: GOP_diff_wrt_py, dtype: float64"
      ]
     },
     "execution_count": 84,
     "metadata": {},
     "output_type": "execute_result"
    }
   ],
   "source": [
    "# Check Summary Stats of the Measure\n",
    "# Removing nulls\n",
    "Group20_data['GOP_diff_wrt_py'].fillna(0,inplace = True )\n",
    "\n",
    "Group20_data['GOP_diff_wrt_py'].describe()"
   ]
  },
  {
   "cell_type": "code",
   "execution_count": 85,
   "id": "42a23e89",
   "metadata": {},
   "outputs": [
    {
     "data": {
      "text/plain": [
       "False"
      ]
     },
     "execution_count": 85,
     "metadata": {},
     "output_type": "execute_result"
    }
   ],
   "source": [
    "# Null Check\n",
    "pd.isnull(Group20_data['GOP_diff_wrt_py']).any()"
   ]
  },
  {
   "cell_type": "code",
   "execution_count": 86,
   "id": "6150badc",
   "metadata": {},
   "outputs": [
    {
     "data": {
      "text/plain": [
       "<AxesSubplot:>"
      ]
     },
     "execution_count": 86,
     "metadata": {},
     "output_type": "execute_result"
    },
    {
     "data": {
      "image/png": "[encoded data removed]",
      "text/plain": [
       "<Figure size 640x480 with 1 Axes>"
      ]
     },
     "metadata": {},
     "output_type": "display_data"
    }
   ],
   "source": [
    "# Hist Plot to check the Distribution of the data\n",
    "\n",
    "Group20_data['GOP_diff_wrt_py'].hist()"
   ]
  },
  {
   "cell_type": "code",
   "execution_count": 87,
   "id": "e146eca4",
   "metadata": {},
   "outputs": [
    {
     "data": {
      "text/plain": [
       "<AxesSubplot:xlabel='GOP_diff_wrt_py'>"
      ]
     },
     "execution_count": 87,
     "metadata": {},
     "output_type": "execute_result"
    },
    {
     "data": {
      "image/png": "[encoded data removed]",
      "text/plain": [
       "<Figure size 640x480 with 1 Axes>"
      ]
     },
     "metadata": {},
     "output_type": "display_data"
    }
   ],
   "source": [
    "# Box plot to check the Outlier of the data\n",
    "\n",
    "sns.boxplot(x=Group20_data['GOP_diff_wrt_py'])"
   ]
  },
  {
   "cell_type": "code",
   "execution_count": 88,
   "id": "64e8237b",
   "metadata": {},
   "outputs": [
    {
     "data": {
      "image/png": "[encoded data removed]",
      "text/plain": [
       "<Figure size 640x480 with 1 Axes>"
      ]
     },
     "metadata": {},
     "output_type": "display_data"
    }
   ],
   "source": [
    "import statsmodels.api as sm\n",
    "from scipy.stats import norm\n",
    "import pylab\n",
    "\n",
    "sm.qqplot(Group20_data['GOP_diff_wrt_py'],line='45',fit=True,dist=stats.norm)\n",
    "\n",
    "pylab.show()"
   ]
  },
  {
   "cell_type": "markdown",
   "id": "84af5d70",
   "metadata": {},
   "source": [
    "# Inference from Histogram:\n",
    "    \n",
    "** From Histogram it looks like the shape of the Curve is similar to Normal Distribution. It could be t-distribution but to \n",
    "** infer anything statiscally some other will be required.\n",
    "\n",
    "Inference from Boxplot\n",
    "    \n",
    "** Box plot shows that there are outliers on both side of the Mean , but due to more outlier on the right side of the mean , data looks bit skewed towards right.\n",
    "\n",
    "Inference from QQ-Plot\n",
    "    \n",
    "** From QQ-Plot we can infer that measure is nearlly Normally distributed."
   ]
  },
  {
   "cell_type": "markdown",
   "id": "5d72e49e",
   "metadata": {},
   "source": [
    "# Second Measures : Perf_effi_per_emp"
   ]
  },
  {
   "cell_type": "code",
   "execution_count": 89,
   "id": "87991fbd",
   "metadata": {},
   "outputs": [
    {
     "data": {
      "text/plain": [
       "count     7158.000000\n",
       "mean     29692.972483\n",
       "std      20104.975796\n",
       "min          0.000000\n",
       "25%      14333.333333\n",
       "50%      25000.000000\n",
       "75%      40000.000000\n",
       "max      92515.000000\n",
       "Name: Perf_effi_per_emp, dtype: float64"
      ]
     },
     "execution_count": 89,
     "metadata": {},
     "output_type": "execute_result"
    }
   ],
   "source": [
    "# Check Summary Stats of the Measure\n",
    "Group20_data['Perf_effi_per_emp'].describe()"
   ]
  },
  {
   "cell_type": "code",
   "execution_count": 90,
   "id": "39d5fa42",
   "metadata": {},
   "outputs": [
    {
     "data": {
      "text/plain": [
       "False"
      ]
     },
     "execution_count": 90,
     "metadata": {},
     "output_type": "execute_result"
    }
   ],
   "source": [
    "# Null Check\n",
    "pd.isnull(Group20_data['Perf_effi_per_emp']).any()"
   ]
  },
  {
   "cell_type": "code",
   "execution_count": 91,
   "id": "64e2ba71",
   "metadata": {},
   "outputs": [
    {
     "data": {
      "text/plain": [
       "<AxesSubplot:>"
      ]
     },
     "execution_count": 91,
     "metadata": {},
     "output_type": "execute_result"
    },
    {
     "data": {
      "image/png": "[encoded data removed]",
      "text/plain": [
       "<Figure size 640x480 with 1 Axes>"
      ]
     },
     "metadata": {},
     "output_type": "display_data"
    }
   ],
   "source": [
    "# Hist Plot to check the Distribution of the data\n",
    "\n",
    "Group20_data['Perf_effi_per_emp'].hist()"
   ]
  },
  {
   "cell_type": "code",
   "execution_count": 92,
   "id": "625c80c1",
   "metadata": {},
   "outputs": [
    {
     "data": {
      "text/plain": [
       "<AxesSubplot:xlabel='Perf_effi_per_emp'>"
      ]
     },
     "execution_count": 92,
     "metadata": {},
     "output_type": "execute_result"
    },
    {
     "data": {
      "image/png": "[encoded data removed]",
      "text/plain": [
       "<Figure size 640x480 with 1 Axes>"
      ]
     },
     "metadata": {},
     "output_type": "display_data"
    }
   ],
   "source": [
    "# Box plot to check the Outlier of the data\n",
    "\n",
    "sns.boxplot(x=Group20_data['Perf_effi_per_emp'])"
   ]
  },
  {
   "cell_type": "code",
   "execution_count": 93,
   "id": "11c4a54d",
   "metadata": {},
   "outputs": [
    {
     "data": {
      "image/png": "[encoded data removed]",
      "text/plain": [
       "<Figure size 640x480 with 1 Axes>"
      ]
     },
     "metadata": {},
     "output_type": "display_data"
    }
   ],
   "source": [
    "import statsmodels.api as sm\n",
    "from scipy.stats import norm\n",
    "import pylab\n",
    "\n",
    "sm.qqplot(Group20_data['Perf_effi_per_emp'],line='45',fit=True,dist=stats.norm)\n",
    "\n",
    "pylab.show()"
   ]
  },
  {
   "cell_type": "markdown",
   "id": "30ce48f7",
   "metadata": {},
   "source": [
    "# Inference from Histogram:\n",
    "    \n",
    "** From Histogram it looks like the shape of the Curve is similar to Normal Distribution. \n",
    "** From the histplot it also clear that data is right skewed. It could be t-distribution but to infer anything statiscally \n",
    "** some other tests will be required.\n",
    "\n",
    "Inference from Boxplot\n",
    "    \n",
    "** Box plot shows that there are outliers on right side of the Mean & data is skewed towards right.\n",
    "\n",
    "Inference from QQ-Plot\n",
    "    \n",
    "** From QQ-Plot we can infer that measure is nearlly Uniformaly distributed."
   ]
  },
  {
   "cell_type": "code",
   "execution_count": null,
   "id": "57687eec",
   "metadata": {},
   "outputs": [],
   "source": []
  }
 ],
 "metadata": {
  "kernelspec": {
   "display_name": "Python 3 (ipykernel)",
   "language": "python",
   "name": "python3"
  },
  "language_info": {
   "codemirror_mode": {
    "name": "ipython",
    "version": 3
   },
   "file_extension": ".py",
   "mimetype": "text/x-python",
   "name": "python",
   "nbconvert_exporter": "python",
   "pygments_lexer": "ipython3",
   "version": "3.9.13"
  }
 },
 "nbformat": 4,
 "nbformat_minor": 5
}
